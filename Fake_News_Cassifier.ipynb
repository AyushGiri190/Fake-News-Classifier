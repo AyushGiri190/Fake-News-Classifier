{
  "nbformat": 4,
  "nbformat_minor": 0,
  "metadata": {
    "colab": {
      "provenance": [],
      "gpuType": "T4"
    },
    "kernelspec": {
      "name": "python3",
      "display_name": "Python 3"
    },
    "language_info": {
      "name": "python"
    },
    "accelerator": "GPU"
  },
  "cells": [
    {
      "cell_type": "code",
      "execution_count": 1,
      "metadata": {
        "colab": {
          "base_uri": "https://localhost:8080/"
        },
        "id": "pd55NBSTjYOU",
        "outputId": "9473505c-7714-4df2-f835-f98e8da84672"
      },
      "outputs": [
        {
          "output_type": "stream",
          "name": "stdout",
          "text": [
            "Requirement already satisfied: kaggle in /usr/local/lib/python3.10/dist-packages (1.5.16)\n",
            "Requirement already satisfied: six>=1.10 in /usr/local/lib/python3.10/dist-packages (from kaggle) (1.16.0)\n",
            "Requirement already satisfied: certifi in /usr/local/lib/python3.10/dist-packages (from kaggle) (2024.2.2)\n",
            "Requirement already satisfied: python-dateutil in /usr/local/lib/python3.10/dist-packages (from kaggle) (2.8.2)\n",
            "Requirement already satisfied: requests in /usr/local/lib/python3.10/dist-packages (from kaggle) (2.31.0)\n",
            "Requirement already satisfied: tqdm in /usr/local/lib/python3.10/dist-packages (from kaggle) (4.66.2)\n",
            "Requirement already satisfied: python-slugify in /usr/local/lib/python3.10/dist-packages (from kaggle) (8.0.4)\n",
            "Requirement already satisfied: urllib3 in /usr/local/lib/python3.10/dist-packages (from kaggle) (2.0.7)\n",
            "Requirement already satisfied: bleach in /usr/local/lib/python3.10/dist-packages (from kaggle) (6.1.0)\n",
            "Requirement already satisfied: webencodings in /usr/local/lib/python3.10/dist-packages (from bleach->kaggle) (0.5.1)\n",
            "Requirement already satisfied: text-unidecode>=1.3 in /usr/local/lib/python3.10/dist-packages (from python-slugify->kaggle) (1.3)\n",
            "Requirement already satisfied: charset-normalizer<4,>=2 in /usr/local/lib/python3.10/dist-packages (from requests->kaggle) (3.3.2)\n",
            "Requirement already satisfied: idna<4,>=2.5 in /usr/local/lib/python3.10/dist-packages (from requests->kaggle) (3.6)\n"
          ]
        }
      ],
      "source": [
        "! pip install kaggle\n",
        "! mkdir ~/.kaggle\n",
        "! cp kaggle.json ~/.kaggle/\n",
        "! chmod 600 ~/.kaggle/kaggle.json"
      ]
    },
    {
      "cell_type": "code",
      "source": [
        "! kaggle competitions download fake-news\n"
      ],
      "metadata": {
        "colab": {
          "base_uri": "https://localhost:8080/"
        },
        "id": "_bzhR_tbjZnp",
        "outputId": "eba3356d-2518-4eed-a535-5ba23d152b5e"
      },
      "execution_count": 2,
      "outputs": [
        {
          "output_type": "stream",
          "name": "stdout",
          "text": [
            "Downloading fake-news.zip to /content\n",
            " 90% 42.0M/46.5M [00:01<00:00, 39.8MB/s]\n",
            "100% 46.5M/46.5M [00:01<00:00, 28.1MB/s]\n"
          ]
        }
      ]
    },
    {
      "cell_type": "code",
      "source": [
        "! unzip fake-news.zip"
      ],
      "metadata": {
        "colab": {
          "base_uri": "https://localhost:8080/"
        },
        "id": "sWBRyhgPjlgK",
        "outputId": "c9e04c1a-f4e9-4423-91a3-dbd4315a0c4e"
      },
      "execution_count": 3,
      "outputs": [
        {
          "output_type": "stream",
          "name": "stdout",
          "text": [
            "Archive:  fake-news.zip\n",
            "  inflating: submit.csv              \n",
            "  inflating: test.csv                \n",
            "  inflating: train.csv               \n"
          ]
        }
      ]
    },
    {
      "cell_type": "code",
      "source": [
        "import pandas as pd\n",
        "import os\n"
      ],
      "metadata": {
        "id": "Zpyc0blEj1gv"
      },
      "execution_count": 4,
      "outputs": []
    },
    {
      "cell_type": "code",
      "source": [
        "train = pd.read_csv('./train.csv')\n",
        "test = pd.read_csv('./test.csv')"
      ],
      "metadata": {
        "id": "gBqm-SBuld_d"
      },
      "execution_count": 5,
      "outputs": []
    },
    {
      "cell_type": "code",
      "source": [
        "train.head()"
      ],
      "metadata": {
        "colab": {
          "base_uri": "https://localhost:8080/",
          "height": 276
        },
        "id": "ubGVrtlfl0I5",
        "outputId": "a8f82376-3305-405e-b7bc-af15a6a4e845"
      },
      "execution_count": 6,
      "outputs": [
        {
          "output_type": "execute_result",
          "data": {
            "text/plain": [
              "   id                                              title              author  \\\n",
              "0   0  House Dem Aide: We Didn’t Even See Comey’s Let...       Darrell Lucus   \n",
              "1   1  FLYNN: Hillary Clinton, Big Woman on Campus - ...     Daniel J. Flynn   \n",
              "2   2                  Why the Truth Might Get You Fired  Consortiumnews.com   \n",
              "3   3  15 Civilians Killed In Single US Airstrike Hav...     Jessica Purkiss   \n",
              "4   4  Iranian woman jailed for fictional unpublished...      Howard Portnoy   \n",
              "\n",
              "                                                text  label  \n",
              "0  House Dem Aide: We Didn’t Even See Comey’s Let...      1  \n",
              "1  Ever get the feeling your life circles the rou...      0  \n",
              "2  Why the Truth Might Get You Fired October 29, ...      1  \n",
              "3  Videos 15 Civilians Killed In Single US Airstr...      1  \n",
              "4  Print \\nAn Iranian woman has been sentenced to...      1  "
            ],
            "text/html": [
              "\n",
              "  <div id=\"df-388f5f9c-0f82-4742-9635-bc87fda6bc18\" class=\"colab-df-container\">\n",
              "    <div>\n",
              "<style scoped>\n",
              "    .dataframe tbody tr th:only-of-type {\n",
              "        vertical-align: middle;\n",
              "    }\n",
              "\n",
              "    .dataframe tbody tr th {\n",
              "        vertical-align: top;\n",
              "    }\n",
              "\n",
              "    .dataframe thead th {\n",
              "        text-align: right;\n",
              "    }\n",
              "</style>\n",
              "<table border=\"1\" class=\"dataframe\">\n",
              "  <thead>\n",
              "    <tr style=\"text-align: right;\">\n",
              "      <th></th>\n",
              "      <th>id</th>\n",
              "      <th>title</th>\n",
              "      <th>author</th>\n",
              "      <th>text</th>\n",
              "      <th>label</th>\n",
              "    </tr>\n",
              "  </thead>\n",
              "  <tbody>\n",
              "    <tr>\n",
              "      <th>0</th>\n",
              "      <td>0</td>\n",
              "      <td>House Dem Aide: We Didn’t Even See Comey’s Let...</td>\n",
              "      <td>Darrell Lucus</td>\n",
              "      <td>House Dem Aide: We Didn’t Even See Comey’s Let...</td>\n",
              "      <td>1</td>\n",
              "    </tr>\n",
              "    <tr>\n",
              "      <th>1</th>\n",
              "      <td>1</td>\n",
              "      <td>FLYNN: Hillary Clinton, Big Woman on Campus - ...</td>\n",
              "      <td>Daniel J. Flynn</td>\n",
              "      <td>Ever get the feeling your life circles the rou...</td>\n",
              "      <td>0</td>\n",
              "    </tr>\n",
              "    <tr>\n",
              "      <th>2</th>\n",
              "      <td>2</td>\n",
              "      <td>Why the Truth Might Get You Fired</td>\n",
              "      <td>Consortiumnews.com</td>\n",
              "      <td>Why the Truth Might Get You Fired October 29, ...</td>\n",
              "      <td>1</td>\n",
              "    </tr>\n",
              "    <tr>\n",
              "      <th>3</th>\n",
              "      <td>3</td>\n",
              "      <td>15 Civilians Killed In Single US Airstrike Hav...</td>\n",
              "      <td>Jessica Purkiss</td>\n",
              "      <td>Videos 15 Civilians Killed In Single US Airstr...</td>\n",
              "      <td>1</td>\n",
              "    </tr>\n",
              "    <tr>\n",
              "      <th>4</th>\n",
              "      <td>4</td>\n",
              "      <td>Iranian woman jailed for fictional unpublished...</td>\n",
              "      <td>Howard Portnoy</td>\n",
              "      <td>Print \\nAn Iranian woman has been sentenced to...</td>\n",
              "      <td>1</td>\n",
              "    </tr>\n",
              "  </tbody>\n",
              "</table>\n",
              "</div>\n",
              "    <div class=\"colab-df-buttons\">\n",
              "\n",
              "  <div class=\"colab-df-container\">\n",
              "    <button class=\"colab-df-convert\" onclick=\"convertToInteractive('df-388f5f9c-0f82-4742-9635-bc87fda6bc18')\"\n",
              "            title=\"Convert this dataframe to an interactive table.\"\n",
              "            style=\"display:none;\">\n",
              "\n",
              "  <svg xmlns=\"http://www.w3.org/2000/svg\" height=\"24px\" viewBox=\"0 -960 960 960\">\n",
              "    <path d=\"M120-120v-720h720v720H120Zm60-500h600v-160H180v160Zm220 220h160v-160H400v160Zm0 220h160v-160H400v160ZM180-400h160v-160H180v160Zm440 0h160v-160H620v160ZM180-180h160v-160H180v160Zm440 0h160v-160H620v160Z\"/>\n",
              "  </svg>\n",
              "    </button>\n",
              "\n",
              "  <style>\n",
              "    .colab-df-container {\n",
              "      display:flex;\n",
              "      gap: 12px;\n",
              "    }\n",
              "\n",
              "    .colab-df-convert {\n",
              "      background-color: #E8F0FE;\n",
              "      border: none;\n",
              "      border-radius: 50%;\n",
              "      cursor: pointer;\n",
              "      display: none;\n",
              "      fill: #1967D2;\n",
              "      height: 32px;\n",
              "      padding: 0 0 0 0;\n",
              "      width: 32px;\n",
              "    }\n",
              "\n",
              "    .colab-df-convert:hover {\n",
              "      background-color: #E2EBFA;\n",
              "      box-shadow: 0px 1px 2px rgba(60, 64, 67, 0.3), 0px 1px 3px 1px rgba(60, 64, 67, 0.15);\n",
              "      fill: #174EA6;\n",
              "    }\n",
              "\n",
              "    .colab-df-buttons div {\n",
              "      margin-bottom: 4px;\n",
              "    }\n",
              "\n",
              "    [theme=dark] .colab-df-convert {\n",
              "      background-color: #3B4455;\n",
              "      fill: #D2E3FC;\n",
              "    }\n",
              "\n",
              "    [theme=dark] .colab-df-convert:hover {\n",
              "      background-color: #434B5C;\n",
              "      box-shadow: 0px 1px 3px 1px rgba(0, 0, 0, 0.15);\n",
              "      filter: drop-shadow(0px 1px 2px rgba(0, 0, 0, 0.3));\n",
              "      fill: #FFFFFF;\n",
              "    }\n",
              "  </style>\n",
              "\n",
              "    <script>\n",
              "      const buttonEl =\n",
              "        document.querySelector('#df-388f5f9c-0f82-4742-9635-bc87fda6bc18 button.colab-df-convert');\n",
              "      buttonEl.style.display =\n",
              "        google.colab.kernel.accessAllowed ? 'block' : 'none';\n",
              "\n",
              "      async function convertToInteractive(key) {\n",
              "        const element = document.querySelector('#df-388f5f9c-0f82-4742-9635-bc87fda6bc18');\n",
              "        const dataTable =\n",
              "          await google.colab.kernel.invokeFunction('convertToInteractive',\n",
              "                                                    [key], {});\n",
              "        if (!dataTable) return;\n",
              "\n",
              "        const docLinkHtml = 'Like what you see? Visit the ' +\n",
              "          '<a target=\"_blank\" href=https://colab.research.google.com/notebooks/data_table.ipynb>data table notebook</a>'\n",
              "          + ' to learn more about interactive tables.';\n",
              "        element.innerHTML = '';\n",
              "        dataTable['output_type'] = 'display_data';\n",
              "        await google.colab.output.renderOutput(dataTable, element);\n",
              "        const docLink = document.createElement('div');\n",
              "        docLink.innerHTML = docLinkHtml;\n",
              "        element.appendChild(docLink);\n",
              "      }\n",
              "    </script>\n",
              "  </div>\n",
              "\n",
              "\n",
              "<div id=\"df-6e2b1704-089a-4d1f-b419-1bc97fca550c\">\n",
              "  <button class=\"colab-df-quickchart\" onclick=\"quickchart('df-6e2b1704-089a-4d1f-b419-1bc97fca550c')\"\n",
              "            title=\"Suggest charts\"\n",
              "            style=\"display:none;\">\n",
              "\n",
              "<svg xmlns=\"http://www.w3.org/2000/svg\" height=\"24px\"viewBox=\"0 0 24 24\"\n",
              "     width=\"24px\">\n",
              "    <g>\n",
              "        <path d=\"M19 3H5c-1.1 0-2 .9-2 2v14c0 1.1.9 2 2 2h14c1.1 0 2-.9 2-2V5c0-1.1-.9-2-2-2zM9 17H7v-7h2v7zm4 0h-2V7h2v10zm4 0h-2v-4h2v4z\"/>\n",
              "    </g>\n",
              "</svg>\n",
              "  </button>\n",
              "\n",
              "<style>\n",
              "  .colab-df-quickchart {\n",
              "      --bg-color: #E8F0FE;\n",
              "      --fill-color: #1967D2;\n",
              "      --hover-bg-color: #E2EBFA;\n",
              "      --hover-fill-color: #174EA6;\n",
              "      --disabled-fill-color: #AAA;\n",
              "      --disabled-bg-color: #DDD;\n",
              "  }\n",
              "\n",
              "  [theme=dark] .colab-df-quickchart {\n",
              "      --bg-color: #3B4455;\n",
              "      --fill-color: #D2E3FC;\n",
              "      --hover-bg-color: #434B5C;\n",
              "      --hover-fill-color: #FFFFFF;\n",
              "      --disabled-bg-color: #3B4455;\n",
              "      --disabled-fill-color: #666;\n",
              "  }\n",
              "\n",
              "  .colab-df-quickchart {\n",
              "    background-color: var(--bg-color);\n",
              "    border: none;\n",
              "    border-radius: 50%;\n",
              "    cursor: pointer;\n",
              "    display: none;\n",
              "    fill: var(--fill-color);\n",
              "    height: 32px;\n",
              "    padding: 0;\n",
              "    width: 32px;\n",
              "  }\n",
              "\n",
              "  .colab-df-quickchart:hover {\n",
              "    background-color: var(--hover-bg-color);\n",
              "    box-shadow: 0 1px 2px rgba(60, 64, 67, 0.3), 0 1px 3px 1px rgba(60, 64, 67, 0.15);\n",
              "    fill: var(--button-hover-fill-color);\n",
              "  }\n",
              "\n",
              "  .colab-df-quickchart-complete:disabled,\n",
              "  .colab-df-quickchart-complete:disabled:hover {\n",
              "    background-color: var(--disabled-bg-color);\n",
              "    fill: var(--disabled-fill-color);\n",
              "    box-shadow: none;\n",
              "  }\n",
              "\n",
              "  .colab-df-spinner {\n",
              "    border: 2px solid var(--fill-color);\n",
              "    border-color: transparent;\n",
              "    border-bottom-color: var(--fill-color);\n",
              "    animation:\n",
              "      spin 1s steps(1) infinite;\n",
              "  }\n",
              "\n",
              "  @keyframes spin {\n",
              "    0% {\n",
              "      border-color: transparent;\n",
              "      border-bottom-color: var(--fill-color);\n",
              "      border-left-color: var(--fill-color);\n",
              "    }\n",
              "    20% {\n",
              "      border-color: transparent;\n",
              "      border-left-color: var(--fill-color);\n",
              "      border-top-color: var(--fill-color);\n",
              "    }\n",
              "    30% {\n",
              "      border-color: transparent;\n",
              "      border-left-color: var(--fill-color);\n",
              "      border-top-color: var(--fill-color);\n",
              "      border-right-color: var(--fill-color);\n",
              "    }\n",
              "    40% {\n",
              "      border-color: transparent;\n",
              "      border-right-color: var(--fill-color);\n",
              "      border-top-color: var(--fill-color);\n",
              "    }\n",
              "    60% {\n",
              "      border-color: transparent;\n",
              "      border-right-color: var(--fill-color);\n",
              "    }\n",
              "    80% {\n",
              "      border-color: transparent;\n",
              "      border-right-color: var(--fill-color);\n",
              "      border-bottom-color: var(--fill-color);\n",
              "    }\n",
              "    90% {\n",
              "      border-color: transparent;\n",
              "      border-bottom-color: var(--fill-color);\n",
              "    }\n",
              "  }\n",
              "</style>\n",
              "\n",
              "  <script>\n",
              "    async function quickchart(key) {\n",
              "      const quickchartButtonEl =\n",
              "        document.querySelector('#' + key + ' button');\n",
              "      quickchartButtonEl.disabled = true;  // To prevent multiple clicks.\n",
              "      quickchartButtonEl.classList.add('colab-df-spinner');\n",
              "      try {\n",
              "        const charts = await google.colab.kernel.invokeFunction(\n",
              "            'suggestCharts', [key], {});\n",
              "      } catch (error) {\n",
              "        console.error('Error during call to suggestCharts:', error);\n",
              "      }\n",
              "      quickchartButtonEl.classList.remove('colab-df-spinner');\n",
              "      quickchartButtonEl.classList.add('colab-df-quickchart-complete');\n",
              "    }\n",
              "    (() => {\n",
              "      let quickchartButtonEl =\n",
              "        document.querySelector('#df-6e2b1704-089a-4d1f-b419-1bc97fca550c button');\n",
              "      quickchartButtonEl.style.display =\n",
              "        google.colab.kernel.accessAllowed ? 'block' : 'none';\n",
              "    })();\n",
              "  </script>\n",
              "</div>\n",
              "\n",
              "    </div>\n",
              "  </div>\n"
            ],
            "application/vnd.google.colaboratory.intrinsic+json": {
              "type": "dataframe",
              "variable_name": "train",
              "summary": "{\n  \"name\": \"train\",\n  \"rows\": 20800,\n  \"fields\": [\n    {\n      \"column\": \"id\",\n      \"properties\": {\n        \"dtype\": \"number\",\n        \"std\": 6004,\n        \"min\": 0,\n        \"max\": 20799,\n        \"num_unique_values\": 20800,\n        \"samples\": [\n          14649,\n          9231,\n          6473\n        ],\n        \"semantic_type\": \"\",\n        \"description\": \"\"\n      }\n    },\n    {\n      \"column\": \"title\",\n      \"properties\": {\n        \"dtype\": \"string\",\n        \"num_unique_values\": 19803,\n        \"samples\": [\n          \"Florida Republicans Voting for Hillary Clinton \\u00b7 Guardian Liberty Voice\",\n          \"\\u2018Weekend Warriors\\u2019 Show Survival Benefits - The New York Times\",\n          \"Part 6, Democratic Network Money: Commons Money that Works for Us, Instead of Us Working for It\"\n        ],\n        \"semantic_type\": \"\",\n        \"description\": \"\"\n      }\n    },\n    {\n      \"column\": \"author\",\n      \"properties\": {\n        \"dtype\": \"category\",\n        \"num_unique_values\": 4201,\n        \"samples\": [\n          \"AARGH63\",\n          \"Dave Kehr\",\n          \"Patrick Healy\"\n        ],\n        \"semantic_type\": \"\",\n        \"description\": \"\"\n      }\n    },\n    {\n      \"column\": \"text\",\n      \"properties\": {\n        \"dtype\": \"string\",\n        \"num_unique_values\": 20386,\n        \"samples\": [\n          \"Multan a un ultrasur por lanzar a un jugador del Bar\\u00e7a al campo durante el partido Madrid-Legia EL PARTIDO SE CONSIDERABA DE ALTO RIESGO PARA LOS JUGADORES DEL BARCELONA Real Madrid \\nUn jugador barcelonista golpe\\u00f3 a varios jugadores durante el encuentro de la Champions que tuvo lugar ayer entre el Real Madrid y el Legia Varsovia despu\\u00e9s de ser arrojado desde la grada por un hincha madridista. \\nEl portero del Legia, muy molesto, intent\\u00f3 devolver el jugador a las gradas de una patada y se encar\\u00f3 con los Ultrasur, que ya preparaban a otro jugador para echarlo al campo y entorpecer el encuentro. En esta ocasi\\u00f3n pretend\\u00edan prenderlo con un mechero antes de lanzarlo al c\\u00e9sped. \\nLas autoridades han vuelto a pedir a los aficionados que dejen de lanzar cosas al campo como botellas, monedas y jugadores del Barcelona. El dispositivo de seguridad no puedo hacer nada por evitar que algunos hinchas introdujeran a jugadores barcelonistas a la grada, pues los llevaban camuflados dentro de bocadillos de gran tama\\u00f1o. \\nEl partido pudo ser reanudado cuando el \\u00e1rbitro apart\\u00f3 a un rinc\\u00f3n del c\\u00e9sped al jugador barcelonista.\",\n          \"Written by Jacob G. Hornberger   As US officials continue to accuse Russia of meddling with the US presidential election, an accusation that they have provided no evidence whatsoever to support, let\\u2019s review some of the US government\\u2019s history of meddling with elections in others countries.1. In 1951, the democratically elected parliament of Iran elected a man named Mohammad Mossadegh to be Iran\\u2019s prime minister. Mossadegh angered British Empire officials by nationalizing British oil interests in the country.British officials then turned to the CIA for assistance. In 1953, the CIA secretly fomented a violent coup in Iran, which succeeded in ousting Mossadegh from power and making the Shah of Iran the supreme unelected dictator of the country.To fortify the Shah\\u2019s dictatorial hold on power, the CIA helped organize and train the his domestic police force, the Savak, which was essentially a combination of the CIA, the NSA, and the military. Part of the CIA\\u2019s training involved teaching Savak agents the art of torture.For the next 26 years, the Iranian people suffered under one of the most brutal and tyrannical dictatorships in the world, one that US officials fully supported and called an ally and friend of the United States.In 1979, Iranians successfully revolted against the Shah\\u2019s regime and ousted him from power. One result was not a restoration of the democratic system that had elected Mossadegh but rather another brutal dictatorship, this time a religious one. Another result is the bad relations between the Iran and US governments that continues to exist today.2. In 1951, the Guatemalan people democratically elected a man named Jacobo Arbenz to be their president. Arbenz, however, was not satisfactory to US officials, especially the national-security branch of the government, specifically the Pentagon and the CIA. The reason that US officials opposed Arbenz was that he was a socialist, and US officials considered a socialist president of Guatemala to be a threat to \\u201cnational security\\u201d here in the United States.In 1954 \\u2014 one year after the coup in Iran, the CIA fomented a violent military coup that succeeded in removing Arbenz from power and replacing him with one of the most brutal unelected military dictators in Latin American history, a man named Carlos Castillo Armas. The CIA had a kill list prepared for the coup, which Arbenz was able to escape by fleeing the country before Castillo was able to get him. The CIA\\u2019s destruction of Guatemala\\u2019s democratic system threw the nation into a 30-year civil war that ended up killing millions of Guatemalan people, especially many of the poor.3. In 1960 a man named Patrice Lamumba was elected Congo\\u2019s first prime minister after independence from Belgium. Lamumba spoke out against Western imperialism and refused to take sides in the Cold War, which caused the CIA to conclude that he was a threat to \\u201cnational security.\\u201d The CIA orchestrated the assassination of Lamumba, which ended up taking place on January 17, 1961, just three days before President Kennedy, who liked Lamumba and who would have ordered the CIA to stand down, was to be sworn into office.4. In 1970 a man named Salvador Allende received a plurality of votes in the presidential election in Chile. Pursuant to the Chilean constitution, the election was thrown into the national congress. President Richard Nixon, his national-security team, the Pentagon, and the CIA concluded that because Allende believed in communism and socialism, he posed a grave threat to \\u201cnational security\\u201d here in the United States. The CIA attempted to bribe members of the congress to vote against Allende. It also orchestrated the kidnapping of the head of Chile\\u2019s armed forces, Gen Rene Schneider, who opposed a US military coup in his country, especially since a coup would violate the country\\u2019s constitution. The kidnapping attempt on Schneider left him dead.The CIA then fomented a coup that took place on 9/11 1973 that violently ousted Allende from power and left him dead. Replacing him was army Gen. Augusto Pinochet, one of the most brutal unelected military dictators in history. By the time Pinochet\\u2019s 17-year reign of military terror came to an end in 1990, he and his CIA-supported goons had incarcerated, raped, tortured, or killed tens of thousands of innocent people \\u2014 that is, people whose only \\u201ccrime\\u201d was believing in socialism \\u2014 with the full support of the CIA, Pentagon, Nixon, and his \\u201cnational security\\u201d team.Of course, there are also the more recent support of regime-change operations that ousted democratically elected presidents that the US government disapproved of, such as in Ukraine and Egypt.And then there is the long list of countries where unelected dictators were targeted for regime change by the US national security state and, where successful, replaced with a brutal unelected pro-US dictator. Cuba, Indonesia, Iraq, Libya, and Syria all come to mind.US officials need to keep in mind that when they point their accusatory index finger at Russia for supposedly meddling in the US presidential election, US officials have, at the same time, three fingers pointing back at themselves. Reprinted with permission from the Future of Freedom Foundation . Related\",\n          \"When hearing of an establishment called the Black and Blue Steakhouse, one could reasonably surmise that some, or at the very least one, extremely tough person could be found somewhere in there. Well, the three terrorists who attacked London Bridge over the weekend found the Black and Blue Steakhouse, and they found the toughest man in the house. [Or, maybe more to the point, he found them.  Roy Larner, 47, is a huge fan of the South East London soccer team Millwall F. C. The team is known as the Lions, and when   terrorists entered the Black and Blue to kill innocent people, Larner let them know who is the true king of the jungle. After the terrorists entered, with obvious bad intentions, Larner sprang into action: \\u201cLike an idiot I shouted back at them. I thought, \\u2018I need to take the p*** out of these b*****s.\\u2019 \\u201cI took a few steps towards them and said, \\u2018F*** you, I\\u2019m Millwall.\\u2019 So they started attacking me. \\u201cI stood in front of them trying to fight them off. Everyone else ran to the back. I was on my own against all three of them, that\\u2019s why I got hurt so much. It was just me, trying to grab them with my bare hands and hold on. I was swinging. \\u201cI got stabbed and sliced eight times. They got me in my head, chest and both hands. There was blood everywhere. \\u201cThey were saying, \\u2018Islam, Islam!\\u2019 I said again, \\u2018F*** you, I\\u2019m Millwall!\\u2019 \\u201cIt was the worst thing I could have done as they carried on attacking me. \\u201cLuckily, none of the blows were straight at me or I\\u2019d be dead. \\u201d A petition has begun, with the aim of awarding Larner with the George Cross for bravery. The award is the second highest commendation granted by Great Britain. Looking at his scars, it\\u2019s really hard to imagine that he won\\u2019t get it. If Millwall is looking for a new slogan, they may have found it. \\u201cF*** you, I\\u2019m Millwall!\\u201d has a nice ring to it. Follow Dylan Gwinn on Twitter: @themightygwinn\"\n        ],\n        \"semantic_type\": \"\",\n        \"description\": \"\"\n      }\n    },\n    {\n      \"column\": \"label\",\n      \"properties\": {\n        \"dtype\": \"number\",\n        \"std\": 0,\n        \"min\": 0,\n        \"max\": 1,\n        \"num_unique_values\": 2,\n        \"samples\": [\n          0,\n          1\n        ],\n        \"semantic_type\": \"\",\n        \"description\": \"\"\n      }\n    }\n  ]\n}"
            }
          },
          "metadata": {},
          "execution_count": 6
        }
      ]
    },
    {
      "cell_type": "code",
      "source": [
        "train.isnull().sum()"
      ],
      "metadata": {
        "colab": {
          "base_uri": "https://localhost:8080/"
        },
        "id": "aBxniizml2XY",
        "outputId": "8349dfc0-6623-44a8-f1d5-da3b4fd50dcf"
      },
      "execution_count": 7,
      "outputs": [
        {
          "output_type": "execute_result",
          "data": {
            "text/plain": [
              "id           0\n",
              "title      558\n",
              "author    1957\n",
              "text        39\n",
              "label        0\n",
              "dtype: int64"
            ]
          },
          "metadata": {},
          "execution_count": 7
        }
      ]
    },
    {
      "cell_type": "code",
      "source": [
        "test.isnull().sum()"
      ],
      "metadata": {
        "colab": {
          "base_uri": "https://localhost:8080/"
        },
        "id": "4j3Xe0zM0_6S",
        "outputId": "7151ed13-fe1e-40a9-ca53-e53fe1ca7b9a"
      },
      "execution_count": 8,
      "outputs": [
        {
          "output_type": "execute_result",
          "data": {
            "text/plain": [
              "id          0\n",
              "title     122\n",
              "author    503\n",
              "text        7\n",
              "dtype: int64"
            ]
          },
          "metadata": {},
          "execution_count": 8
        }
      ]
    },
    {
      "cell_type": "code",
      "source": [
        "train.shape"
      ],
      "metadata": {
        "colab": {
          "base_uri": "https://localhost:8080/"
        },
        "id": "C__WtDWCmM78",
        "outputId": "ade47411-cff1-4f7b-a5eb-3a28ff3dadf1"
      },
      "execution_count": 9,
      "outputs": [
        {
          "output_type": "execute_result",
          "data": {
            "text/plain": [
              "(20800, 5)"
            ]
          },
          "metadata": {},
          "execution_count": 9
        }
      ]
    },
    {
      "cell_type": "code",
      "source": [
        "train = train.dropna() # dropping all the null values row"
      ],
      "metadata": {
        "id": "okoJx1PxJ3si"
      },
      "execution_count": 10,
      "outputs": []
    },
    {
      "cell_type": "code",
      "source": [
        "train.reset_index(inplace=True) # resetting index"
      ],
      "metadata": {
        "id": "l7mQ6OfFJ9zr"
      },
      "execution_count": 11,
      "outputs": []
    },
    {
      "cell_type": "code",
      "source": [
        "trainf = train[['title']] # taking the feature we require to test"
      ],
      "metadata": {
        "id": "dyDUvYRhmGkh"
      },
      "execution_count": 45,
      "outputs": []
    },
    {
      "cell_type": "code",
      "source": [
        "trainf.shape"
      ],
      "metadata": {
        "colab": {
          "base_uri": "https://localhost:8080/"
        },
        "id": "oO_jHLmGmWF4",
        "outputId": "e2464645-2547-41dd-f633-a6571d690195"
      },
      "execution_count": 13,
      "outputs": [
        {
          "output_type": "execute_result",
          "data": {
            "text/plain": [
              "(18285, 1)"
            ]
          },
          "metadata": {},
          "execution_count": 13
        }
      ]
    },
    {
      "cell_type": "code",
      "source": [
        "trainf.reset_index(inplace=True)"
      ],
      "metadata": {
        "id": "eoiTgDDDm_Tv"
      },
      "execution_count": 46,
      "outputs": []
    },
    {
      "cell_type": "code",
      "source": [
        "y=train[['label']] # target variable"
      ],
      "metadata": {
        "id": "qg4yVproJWQ8"
      },
      "execution_count": 47,
      "outputs": []
    },
    {
      "cell_type": "code",
      "source": [
        "import nltk\n",
        "import re\n",
        "from nltk.corpus import stopwords"
      ],
      "metadata": {
        "id": "9OCmg20q0GgL"
      },
      "execution_count": 48,
      "outputs": []
    },
    {
      "cell_type": "code",
      "source": [
        "nltk.download('stopwords')"
      ],
      "metadata": {
        "id": "H0MlDSMP0PDv",
        "colab": {
          "base_uri": "https://localhost:8080/"
        },
        "outputId": "f5165378-52ad-48c7-eb59-ae1158ed93e3"
      },
      "execution_count": 49,
      "outputs": [
        {
          "output_type": "stream",
          "name": "stderr",
          "text": [
            "[nltk_data] Downloading package stopwords to /root/nltk_data...\n",
            "[nltk_data]   Package stopwords is already up-to-date!\n"
          ]
        },
        {
          "output_type": "execute_result",
          "data": {
            "text/plain": [
              "True"
            ]
          },
          "metadata": {},
          "execution_count": 49
        }
      ]
    },
    {
      "cell_type": "markdown",
      "source": [
        "#Text Preprocessing\n",
        "Here we are using stemming as it is easy and faster then we are removing all the stopwords replaicng all the spaces"
      ],
      "metadata": {
        "id": "qUBgyCfqTV05"
      }
    },
    {
      "cell_type": "code",
      "source": [
        "### Dataset Preprocessing\n",
        "from nltk.stem.porter import PorterStemmer\n",
        "ps = PorterStemmer()\n",
        "corpus = []\n",
        "for i in range(0, len(trainf)):\n",
        "    review = re.sub('[^a-zA-Z]', ' ', trainf['title'][i])\n",
        "    review = review.lower()\n",
        "    review = review.split()\n",
        "\n",
        "    review = [ps.stem(word) for word in review if not word in stopwords.words('english')]\n",
        "    review = ' '.join(review)\n",
        "    corpus.append(review)"
      ],
      "metadata": {
        "colab": {
          "base_uri": "https://localhost:8080/",
          "height": 356
        },
        "id": "vSZIsptrHFvD",
        "outputId": "82fc6350-58e5-495e-df3e-1702e1895795"
      },
      "execution_count": 50,
      "outputs": [
        {
          "output_type": "error",
          "ename": "KeyboardInterrupt",
          "evalue": "",
          "traceback": [
            "\u001b[0;31m---------------------------------------------------------------------------\u001b[0m",
            "\u001b[0;31mKeyboardInterrupt\u001b[0m                         Traceback (most recent call last)",
            "\u001b[0;32m<ipython-input-50-36a68d50890c>\u001b[0m in \u001b[0;36m<cell line: 5>\u001b[0;34m()\u001b[0m\n\u001b[1;32m      8\u001b[0m     \u001b[0mreview\u001b[0m \u001b[0;34m=\u001b[0m \u001b[0mreview\u001b[0m\u001b[0;34m.\u001b[0m\u001b[0msplit\u001b[0m\u001b[0;34m(\u001b[0m\u001b[0;34m)\u001b[0m\u001b[0;34m\u001b[0m\u001b[0;34m\u001b[0m\u001b[0m\n\u001b[1;32m      9\u001b[0m \u001b[0;34m\u001b[0m\u001b[0m\n\u001b[0;32m---> 10\u001b[0;31m     \u001b[0mreview\u001b[0m \u001b[0;34m=\u001b[0m \u001b[0;34m[\u001b[0m\u001b[0mps\u001b[0m\u001b[0;34m.\u001b[0m\u001b[0mstem\u001b[0m\u001b[0;34m(\u001b[0m\u001b[0mword\u001b[0m\u001b[0;34m)\u001b[0m \u001b[0;32mfor\u001b[0m \u001b[0mword\u001b[0m \u001b[0;32min\u001b[0m \u001b[0mreview\u001b[0m \u001b[0;32mif\u001b[0m \u001b[0;32mnot\u001b[0m \u001b[0mword\u001b[0m \u001b[0;32min\u001b[0m \u001b[0mstopwords\u001b[0m\u001b[0;34m.\u001b[0m\u001b[0mwords\u001b[0m\u001b[0;34m(\u001b[0m\u001b[0;34m'english'\u001b[0m\u001b[0;34m)\u001b[0m\u001b[0;34m]\u001b[0m\u001b[0;34m\u001b[0m\u001b[0;34m\u001b[0m\u001b[0m\n\u001b[0m\u001b[1;32m     11\u001b[0m     \u001b[0mreview\u001b[0m \u001b[0;34m=\u001b[0m \u001b[0;34m' '\u001b[0m\u001b[0;34m.\u001b[0m\u001b[0mjoin\u001b[0m\u001b[0;34m(\u001b[0m\u001b[0mreview\u001b[0m\u001b[0;34m)\u001b[0m\u001b[0;34m\u001b[0m\u001b[0;34m\u001b[0m\u001b[0m\n\u001b[1;32m     12\u001b[0m     \u001b[0mcorpus\u001b[0m\u001b[0;34m.\u001b[0m\u001b[0mappend\u001b[0m\u001b[0;34m(\u001b[0m\u001b[0mreview\u001b[0m\u001b[0;34m)\u001b[0m\u001b[0;34m\u001b[0m\u001b[0;34m\u001b[0m\u001b[0m\n",
            "\u001b[0;32m<ipython-input-50-36a68d50890c>\u001b[0m in \u001b[0;36m<listcomp>\u001b[0;34m(.0)\u001b[0m\n\u001b[1;32m      8\u001b[0m     \u001b[0mreview\u001b[0m \u001b[0;34m=\u001b[0m \u001b[0mreview\u001b[0m\u001b[0;34m.\u001b[0m\u001b[0msplit\u001b[0m\u001b[0;34m(\u001b[0m\u001b[0;34m)\u001b[0m\u001b[0;34m\u001b[0m\u001b[0;34m\u001b[0m\u001b[0m\n\u001b[1;32m      9\u001b[0m \u001b[0;34m\u001b[0m\u001b[0m\n\u001b[0;32m---> 10\u001b[0;31m     \u001b[0mreview\u001b[0m \u001b[0;34m=\u001b[0m \u001b[0;34m[\u001b[0m\u001b[0mps\u001b[0m\u001b[0;34m.\u001b[0m\u001b[0mstem\u001b[0m\u001b[0;34m(\u001b[0m\u001b[0mword\u001b[0m\u001b[0;34m)\u001b[0m \u001b[0;32mfor\u001b[0m \u001b[0mword\u001b[0m \u001b[0;32min\u001b[0m \u001b[0mreview\u001b[0m \u001b[0;32mif\u001b[0m \u001b[0;32mnot\u001b[0m \u001b[0mword\u001b[0m \u001b[0;32min\u001b[0m \u001b[0mstopwords\u001b[0m\u001b[0;34m.\u001b[0m\u001b[0mwords\u001b[0m\u001b[0;34m(\u001b[0m\u001b[0;34m'english'\u001b[0m\u001b[0;34m)\u001b[0m\u001b[0;34m]\u001b[0m\u001b[0;34m\u001b[0m\u001b[0;34m\u001b[0m\u001b[0m\n\u001b[0m\u001b[1;32m     11\u001b[0m     \u001b[0mreview\u001b[0m \u001b[0;34m=\u001b[0m \u001b[0;34m' '\u001b[0m\u001b[0;34m.\u001b[0m\u001b[0mjoin\u001b[0m\u001b[0;34m(\u001b[0m\u001b[0mreview\u001b[0m\u001b[0;34m)\u001b[0m\u001b[0;34m\u001b[0m\u001b[0;34m\u001b[0m\u001b[0m\n\u001b[1;32m     12\u001b[0m     \u001b[0mcorpus\u001b[0m\u001b[0;34m.\u001b[0m\u001b[0mappend\u001b[0m\u001b[0;34m(\u001b[0m\u001b[0mreview\u001b[0m\u001b[0;34m)\u001b[0m\u001b[0;34m\u001b[0m\u001b[0;34m\u001b[0m\u001b[0m\n",
            "\u001b[0;32m/usr/local/lib/python3.10/dist-packages/nltk/corpus/reader/wordlist.py\u001b[0m in \u001b[0;36mwords\u001b[0;34m(self, fileids, ignore_lines_startswith)\u001b[0m\n\u001b[1;32m     17\u001b[0m \u001b[0;34m\u001b[0m\u001b[0m\n\u001b[1;32m     18\u001b[0m     \u001b[0;32mdef\u001b[0m \u001b[0mwords\u001b[0m\u001b[0;34m(\u001b[0m\u001b[0mself\u001b[0m\u001b[0;34m,\u001b[0m \u001b[0mfileids\u001b[0m\u001b[0;34m=\u001b[0m\u001b[0;32mNone\u001b[0m\u001b[0;34m,\u001b[0m \u001b[0mignore_lines_startswith\u001b[0m\u001b[0;34m=\u001b[0m\u001b[0;34m\"\\n\"\u001b[0m\u001b[0;34m)\u001b[0m\u001b[0;34m:\u001b[0m\u001b[0;34m\u001b[0m\u001b[0;34m\u001b[0m\u001b[0m\n\u001b[0;32m---> 19\u001b[0;31m         return [\n\u001b[0m\u001b[1;32m     20\u001b[0m             \u001b[0mline\u001b[0m\u001b[0;34m\u001b[0m\u001b[0;34m\u001b[0m\u001b[0m\n\u001b[1;32m     21\u001b[0m             \u001b[0;32mfor\u001b[0m \u001b[0mline\u001b[0m \u001b[0;32min\u001b[0m \u001b[0mline_tokenize\u001b[0m\u001b[0;34m(\u001b[0m\u001b[0mself\u001b[0m\u001b[0;34m.\u001b[0m\u001b[0mraw\u001b[0m\u001b[0;34m(\u001b[0m\u001b[0mfileids\u001b[0m\u001b[0;34m)\u001b[0m\u001b[0;34m)\u001b[0m\u001b[0;34m\u001b[0m\u001b[0;34m\u001b[0m\u001b[0m\n",
            "\u001b[0;32m/usr/local/lib/python3.10/dist-packages/nltk/corpus/reader/wordlist.py\u001b[0m in \u001b[0;36m<listcomp>\u001b[0;34m(.0)\u001b[0m\n\u001b[1;32m     20\u001b[0m             \u001b[0mline\u001b[0m\u001b[0;34m\u001b[0m\u001b[0;34m\u001b[0m\u001b[0m\n\u001b[1;32m     21\u001b[0m             \u001b[0;32mfor\u001b[0m \u001b[0mline\u001b[0m \u001b[0;32min\u001b[0m \u001b[0mline_tokenize\u001b[0m\u001b[0;34m(\u001b[0m\u001b[0mself\u001b[0m\u001b[0;34m.\u001b[0m\u001b[0mraw\u001b[0m\u001b[0;34m(\u001b[0m\u001b[0mfileids\u001b[0m\u001b[0;34m)\u001b[0m\u001b[0;34m)\u001b[0m\u001b[0;34m\u001b[0m\u001b[0;34m\u001b[0m\u001b[0m\n\u001b[0;32m---> 22\u001b[0;31m             \u001b[0;32mif\u001b[0m \u001b[0;32mnot\u001b[0m \u001b[0mline\u001b[0m\u001b[0;34m.\u001b[0m\u001b[0mstartswith\u001b[0m\u001b[0;34m(\u001b[0m\u001b[0mignore_lines_startswith\u001b[0m\u001b[0;34m)\u001b[0m\u001b[0;34m\u001b[0m\u001b[0;34m\u001b[0m\u001b[0m\n\u001b[0m\u001b[1;32m     23\u001b[0m         ]\n\u001b[1;32m     24\u001b[0m \u001b[0;34m\u001b[0m\u001b[0m\n",
            "\u001b[0;31mKeyboardInterrupt\u001b[0m: "
          ]
        }
      ]
    },
    {
      "cell_type": "code",
      "source": [
        "corpus\n"
      ],
      "metadata": {
        "colab": {
          "base_uri": "https://localhost:8080/"
        },
        "id": "rEJRge58HgW2",
        "outputId": "1014493b-d0b6-409f-b2ac-6b56aedb86c2"
      },
      "execution_count": null,
      "outputs": [
        {
          "output_type": "execute_result",
          "data": {
            "text/plain": [
              "['hous dem aid even see comey letter jason chaffetz tweet',\n",
              " 'flynn hillari clinton big woman campu breitbart',\n",
              " 'truth might get fire',\n",
              " 'civilian kill singl us airstrik identifi',\n",
              " 'iranian woman jail fiction unpublish stori woman stone death adulteri',\n",
              " 'jacki mason hollywood would love trump bomb north korea lack tran bathroom exclus video breitbart',\n",
              " 'beno hamon win french socialist parti presidenti nomin new york time',\n",
              " 'back channel plan ukrain russia courtesi trump associ new york time',\n",
              " 'obama organ action partner soro link indivis disrupt trump agenda',\n",
              " 'bbc comedi sketch real housew isi caus outrag',\n",
              " 'russian research discov secret nazi militari base treasur hunter arctic photo',\n",
              " 'us offici see link trump russia',\n",
              " 'ye paid govern troll social media blog forum websit',\n",
              " 'major leagu soccer argentin find home success new york time',\n",
              " 'well fargo chief abruptli step new york time',\n",
              " 'anonym donor pay million releas everyon arrest dakota access pipelin',\n",
              " 'fbi close hillari',\n",
              " 'chuck todd buzzfe donald trump polit favor breitbart',\n",
              " 'monica lewinski clinton sex scandal set american crime stori',\n",
              " 'rob reiner trump mental unstabl breitbart',\n",
              " 'abort pill order rise latin american nation zika alert new york time',\n",
              " 'nuke un histor treati ban nuclear weapon',\n",
              " 'exclus islam state support vow shake west follow manchest terrorist massacr breitbart',\n",
              " 'humili hillari tri hide camera caught min ralli',\n",
              " 'andrea tantaro fox news claim retali sex harass complaint new york time',\n",
              " 'hillari clinton becam hawk new york time',\n",
              " 'chuck todd buzzfe eic publish fake news breitbart',\n",
              " 'bori johnson brexit leader fumbl new york time',\n",
              " 'texa oil field rebound price lull job left behind new york time',\n",
              " 'bayer deal monsanto follow agribusi trend rais worri farmer new york time',\n",
              " 'russia move ban jehovah wit extremist new york time',\n",
              " 'still danger zone januari th',\n",
              " 'open thread u elect',\n",
              " 'democrat gutierrez blame chicago gun violenc nra breitbart',\n",
              " 'avoid peanut avoid allergi bad strategi new york time',\n",
              " 'mri show detail imag week unborn babi breitbart',\n",
              " 'best kind milk dairi',\n",
              " 'ryan locht drop speedo usa retail new york time',\n",
              " 'conserv urg session clean obama civil right divis breitbart',\n",
              " 'intern inquiri seal fate roger ail fox new york time',\n",
              " 'press tv debat duff lebanon hezbollah aoun presid video',\n",
              " 'samsung combust galaxi note unveil new smartphon new york time',\n",
              " 'poland vow referendum migrant quota amidst eu pressur public voic heard breitbart',\n",
              " 'spark inner revolut',\n",
              " 'studi half car crash involv driver distract cell phone breitbart',\n",
              " 'trump elect spark individu collect heal',\n",
              " 'ep fade black jimmi church w laura eisenhow restor balanc video',\n",
              " 'cognit true islam book review',\n",
              " 'donald trump win elect biggest miracl us polit histori',\n",
              " 'mind eat way fight bing new york time',\n",
              " 'major potenti impact corpor tax overhaul new york time',\n",
              " 'wonder glp like day elect',\n",
              " 'maker world smallest machin award nobel prize chemistri new york time',\n",
              " 'massiv anti trump protest union squar nyc live stream',\n",
              " 'review lion bring tear lost boy wipe dri googl new york time',\n",
              " 'u gener islam state chemic attack impact u forc',\n",
              " 'juri find oregon standoff defend guilti feder conspiraci gun charg',\n",
              " 'clinton campaign stun fbi reportedli reopen probe hillari clinton email',\n",
              " 'penc speak anti abort ralli new york time',\n",
              " 'berni sander say media trump gutless polit coward',\n",
              " 'make briquett daili wast',\n",
              " 'treason nyt vow reded report',\n",
              " 'dress like woman mean new york time',\n",
              " 'ella brennan still feed lead new orlean new york time',\n",
              " 'press asia agenda obama tread lightli human right new york time',\n",
              " 'democrat percent chanc retak senat new york time',\n",
              " 'judg spank transgend obsess obama lie redflag news',\n",
              " 'u diplomat urg strike assad syria new york time',\n",
              " 'franken call independ investig trump putin crush breitbart',\n",
              " 'louisiana simon bile u presidenti race tuesday even brief new york time',\n",
              " 'turkey threaten open migrant land passag europ row dutch',\n",
              " 'huma weiner dog hillari',\n",
              " 'colin kaepernick start black panther inspir youth camp wow',\n",
              " 'trump immigr polici explain new york time',\n",
              " 'mari tyler moor mourn dick van dyke star new york time',\n",
              " 'poison',\n",
              " 'trump fan ralli across nation support presid new york time',\n",
              " 'fox biz report help bash clinton ralli cover trump pack event day',\n",
              " 'fiction podcast worth listen new york time',\n",
              " 'mike birbiglia tip make small hollywood anywher new york time',\n",
              " 'invest strategist forecast collaps timelin last gasp econom cycl come',\n",
              " 'venezuela muzzl legislatur move closer one man rule new york time',\n",
              " 'whether john mccain mitt romney donald trump democrat alway run war women tactic destroy republican candid',\n",
              " 'breitbart news daili trump boom breitbart',\n",
              " 'white hous confirm gitmo transfer obama leav offic',\n",
              " 'poll voter heard democrat elect candid breitbart',\n",
              " 'migrant confront judgment day old deport order new york time',\n",
              " 'n u yale su retir plan fee new york time',\n",
              " 'technocraci real reason un want control internet',\n",
              " 'american driver regain appetit ga guzzler new york time',\n",
              " 'hillari clinton build million war chest doubl donald trump new york time',\n",
              " 'trump catch sick report snuck interview priceless respons',\n",
              " 'senat contact russian govern week',\n",
              " 'imag perfectli illustr struggl dakota access pipelin',\n",
              " 'washington state take refuge muslim rest countri take refuge muslim breitbart',\n",
              " 'ncaa big keep watch eye texa bathroom bill breitbart',\n",
              " 'massiv espn financi subscrib loss drag disney first quarter sale breitbart',\n",
              " 'megyn kelli contract set expir next year prime big show new york time',\n",
              " 'teacher suspend allow student hit trump pinata cinco de mayo',\n",
              " 'break trump express concern anthoni weiner illeg access classifi info month ago truthfe',\n",
              " 'snap share leap debut investor doubt valu vanish new york time',\n",
              " 'clinton campaign chair dinner top doj offici one day hillari benghazi hear',\n",
              " 'tv seri first femal mlb pitcher can one low rate season breitbart',\n",
              " 'seek best fit women final four return friday sunday new york time',\n",
              " 'propos canadian nation bird ruffl feather new york time',\n",
              " 'review beyonc make lemonad marit strife new york time',\n",
              " 'trump ask sharp increas militari spend offici say new york time',\n",
              " 'waterg smoke gun email discuss clean obama hillari email',\n",
              " 'chapo trap hous new left wing podcast flagrant rip right stuff',\n",
              " 'taiwan respond china send carrier taiwan strait new york time',\n",
              " 'mother octob surpris hous card come tumbl',\n",
              " 'explos assang pilger interview us elect expect riot hillari win',\n",
              " 'telescop ate astronomi track surpass hubbl new york time',\n",
              " 'close afghan pakistani border becom humanitarian crisi new york time',\n",
              " 'tv anchor arriv white hous lunch donald trump breitbart',\n",
              " 'pelosi republican tell trump bring dishonor presid breitbart',\n",
              " 'beauti prehistor world earth wasteland',\n",
              " 'ignor trump news week learn new york time',\n",
              " 'donald trump unveil plan famili bid women vote new york time',\n",
              " 'montana democrat vote bill ban sharia law call repugn breitbart',\n",
              " 'monsanto tribun go happen',\n",
              " 'offici simon bile world best gymnast new york time',\n",
              " 'liter hurt brain read econom idioci emit trumpkin libertarian',\n",
              " 'u n secretari gener complain mass reject global favor nation',\n",
              " 'trump bollywood ad meant sway indian american voter hilari fail video',\n",
              " 'fbi find previous unseen hillari clinton email weiner laptop',\n",
              " 'year american journalist kill conspiraci theori syria proven fact',\n",
              " 'report illeg alien forego food stamp stay trump radar',\n",
              " 'make netherland great hahaha spread worldwid',\n",
              " 'four kill injur jerusalem truck ram terror attack',\n",
              " 'leader salut comrad newt brutal megyn sic kelli beatdown play game',\n",
              " 'student black colleg got beaten mace protest kkk david duke',\n",
              " 'despit strict gun control one child youth shot everi day ontario',\n",
              " 'rise internet fan bulli new york time',\n",
              " 'newli vibrant washington fear trump drain cultur new york time',\n",
              " 'fed hold interest rate steadi plan slower increas new york time',\n",
              " 'battl unesco',\n",
              " 'latest test white hous pull easter egg roll new york time',\n",
              " 'burlesqu dancer fire investig secret servic trump assassin tweet breitbart',\n",
              " 'clinton haiti',\n",
              " 'cuomo christi parallel path top troubl got new york time',\n",
              " 'top place world allow visit',\n",
              " 'new studi link fluorid consumpt hypothyroid weight gain wors',\n",
              " 'jame matti secretari offens',\n",
              " 'black church burn spray paint vote trump',\n",
              " 'sear agre sell craftsman stanley black amp decker rais cash new york time',\n",
              " 'takata chief execut resign financi pressur mount new york time',\n",
              " 'goodby good black sabbath new york time',\n",
              " 'teen geisha doll gang bust arm robberi breitbart',\n",
              " 'mohamad khwei anoth virginia man palestinian american muslim charg terror',\n",
              " 'price obamacar replac nobodi wors financi breitbart',\n",
              " 'va fail properli examin thousand veteran',\n",
              " 'trump famili alreadi sworn secreci fake moon land soon',\n",
              " 'sport writer nfl great jim brown decad civil right work eras say nice thing donald trump breitbart',\n",
              " 'watch tv excus republican skip donald trump convent new york time',\n",
              " 'open letter trump voter told like',\n",
              " 'comment power corpor lobbi quietli back hillari nobodi talk runsinquicksand',\n",
              " 'hijack end peac libyan airlin land malta new york time',\n",
              " 'like girl girl geniu new york time',\n",
              " 'scientist say canadian bacteria fossil may earth oldest new york time',\n",
              " 'pro govern forc advanc syria amid talk u russia cooper new york time',\n",
              " 'cancer agenc fire withhold carcinogen glyphos document',\n",
              " 'work walk minut work new york time',\n",
              " 'steve harvey talk hous presid elect trump new york time',\n",
              " 'coalit u troop fight mosul offens come fire',\n",
              " 'uk citizen war hero get cheap pre fab hous muslim colon get taxpay fund luxuri council home',\n",
              " 'vet fight war fed demand money back illeg refuge keep money',\n",
              " 'mr trump wild ride new york time',\n",
              " 'fbi director comey bamboozl doj congress clinton',\n",
              " 'food natur unclog arteri prevent heart attack',\n",
              " 'death two state solut',\n",
              " 'comment parent date asleep car cop arriv kill facespac',\n",
              " 'donald trump team show sign post elect moder new york time',\n",
              " 'miami beach tri tame raucou street fishbowl drink stay new york time',\n",
              " 'doctor mysteri found dead summit breakthrough cure cancer',\n",
              " 'donald trump unsink candid new york time',\n",
              " 'shock new mock hillari ad campaign warn take us war enlistforh fightforh dieforh',\n",
              " 'exclus famili slain border patrol agent brian terri say eric holder among real crimin respons',\n",
              " 'trump tell report wall work ask israel breitbart',\n",
              " 'america surviv next year',\n",
              " 'commission start press cleveland indian logo new york time',\n",
              " 'un plan implant everyon biometr id drill',\n",
              " 'trump attack senat credibl gorsuch comment new york time',\n",
              " 'clinton advisor lose leak email hillari illeg activ',\n",
              " 'art laffer paul ryan perfect right breitbart',\n",
              " 'donald trump blame econom crash',\n",
              " 'pokemon go player inadvert stop peopl commit suicid japan',\n",
              " 'california senat race tale divers flail g p new york time',\n",
              " 'exclus sourc say megyn kelli would welcom back fox news',\n",
              " 'break preced obama envoy deni extens past inaugur day new york time',\n",
              " 'brexit vote go monti python may offer clue new york time',\n",
              " 'blind mystic predict bad news trump',\n",
              " 'total vet fail left wing snowden fan girl realiti winner get access nsa secret',\n",
              " 'somalia u escal shadow war new york time',\n",
              " 'free care bless victim orlando nightclub attack new york time',\n",
              " 'durabl democrat counti countri could go trump',\n",
              " 'fed challeng rais rate may existenti new york time',\n",
              " 'russia intent attack anyon absurd say vladimir putin',\n",
              " 'f investig errant flight involv harrison ford new york time',\n",
              " 'fed rais key interest rate cite strengthen economi new york time',\n",
              " 'la expresi n lo siguient ya es la utilizada lo siguient en el castellano',\n",
              " 'trump berat news media new strategi need cover new york time',\n",
              " 'u drone strike target taliban leader new york time',\n",
              " 'u intellig expect al qaeda attack monday new york virginia texa',\n",
              " 'told cannabi great revers alzheim',\n",
              " 'report megyn kelli kick nbc show kardashian famili interview',\n",
              " 'local percent may rich think new york time',\n",
              " 'dr david duke mark collett uk collett explain duke trump victori would chang polit forev',\n",
              " 'statement senat well fargo chief deepli sorri new york time',\n",
              " 'cnn statement distanc network buzzfe fake news dossier breitbart',\n",
              " 'c e ponder new game trump rule new york time',\n",
              " 'spicer bradi stolen jersey anoth bad press breitbart',\n",
              " 'scaredi cat investig peopl enjoy fear new york time',\n",
              " 'left vision',\n",
              " 'showdown loom u question chines deal german chip design new york time',\n",
              " 'trump administr take harder tack trade china new york time',\n",
              " 'pew american trust level feder govern plummet histor low breitbart',\n",
              " 'islam state support former nation guardsman plead guilti terror charg virginia',\n",
              " 'spicer report go rais hand like big boy girl breitbart',\n",
              " 'leader applaud gorsuch confirm win pro life movement',\n",
              " 'newstick',\n",
              " 'french vogu march cover featur transgend model new york time',\n",
              " 'trump veer parti line gun control new york time',\n",
              " 'oligarchi prepar groundwork steal elect',\n",
              " 'ya hay reencuentro de operaci n triunfo que edicion de operaci n triunfo',\n",
              " 'chatsworth hous tale five centuri new york time',\n",
              " 'uncomfort love affair donald trump new england patriot new york time',\n",
              " 'john mccain withdraw support donald trump disclosur record new york time',\n",
              " 'strang unend limbo egypt hosni mubarak new york time',\n",
              " 'poverti rose u hous district obama presid',\n",
              " 'huma abedin seek fbi immun deal',\n",
              " 'singl mom escap friend zone one non date time new york time',\n",
              " 'boe suit futur spaceflight new spacesuit design breitbart',\n",
              " 'trump float oliv branch might keep part health law new york time',\n",
              " 'wapo tri compar elizabeth warren break senat rule milo shut violent riot breitbart',\n",
              " 'crumpl school bu leav chattanooga daze new york time',\n",
              " 'die came back life incred messag human',\n",
              " 'fight nation african american museum new york time',\n",
              " 'father manchest suicid bomber arrest libya breitbart',\n",
              " 'secret true leader',\n",
              " 'muslim demand local walk dog public violat sharia disrespect',\n",
              " 'hillari campaign bed pac staff donat k fbi agent wife investig',\n",
              " 'still tri flip elector colleg block trump win',\n",
              " 'al sharpton dem point appeal archi bunker trump voter breitbart',\n",
              " 'think mani doom sayer trump get offic',\n",
              " 'democrat jump session resign band wagon breitbart',\n",
              " 'alt right architect glenn beck open fire alt right grave threat republ audio tweet',\n",
              " 'politic justic protect hillari',\n",
              " 'north carolina satur surpris reel hurrican matthew new york time',\n",
              " 'live love submit memori new york time',\n",
              " 'achiev mind work medit cushion requir new york time',\n",
              " 'world first zero emiss hydrogen power passeng train unveil germani',\n",
              " 'confus chip credit card get line new york time',\n",
              " 'brook trump side foreign leader us presid israel russia breitbart',\n",
              " 'toxic air home get rid natur',\n",
              " 'connecticut reader report record voter registr inspir trump',\n",
              " 'germani react merkel trump visit could lot wors new york time',\n",
              " 'justin rose outduel henrik stenson golf gold medal new york time',\n",
              " 'iceland water cure new york time',\n",
              " 'shorten l train shutdown month new york time',\n",
              " 'time presid decid new york time',\n",
              " 'u n relief offici call crisi aleppo apex horror new york time',\n",
              " 'berkeley treat violent anti speech left like kkk',\n",
              " 'statist propaganda mani syrian us regim chang kill',\n",
              " 'self help guru jame altuch own thing new york time',\n",
              " 'trump religi liberti order give session major leeway breitbart',\n",
              " 'demoledor amparo contra salgado keiko congresista',\n",
              " 'era trump china presid champion econom global new york time',\n",
              " 'sad saga john walker lindh rebel without clue',\n",
              " 'court disagre michigan vote recount new york time',\n",
              " 'berni sander feud democrat leadership heat new york time',\n",
              " 'shortest power explan trump victori ever seen',\n",
              " 'russia look popul far east wimp need appli new york time',\n",
              " 'johnson amend trump vow destroy explain new york time',\n",
              " 'donald trump march life full support',\n",
              " 'polic offici found dead long island suicid suspect new york time',\n",
              " 'radic chang store world global market readi',\n",
              " 'like make showbiz best friend new york time',\n",
              " 'trump nomin neil gorsuch suprem court new york time',\n",
              " 'bidder cast doubt serious mexican border wall project',\n",
              " 'stake us elect',\n",
              " 'israel approv addit fund settlement west bank new york time',\n",
              " 'tx gov abbott sign legisl could put sheriff sanctuari citi jail breitbart',\n",
              " 'donald trump hold thank ralli cincinnati announc pick defens secretari new york time',\n",
              " 'lawmak look bipartisanship health care new york time',\n",
              " 'insid conserv push state amend constitut new york time',\n",
              " 'donald trump tell n r hillari clinton want let violent crimin go free new york time',\n",
              " 'pope franci trump japan tuesday brief new york time',\n",
              " 'mayorsstand day tout support illeg immigr',\n",
              " 'trump campaign celebr',\n",
              " 'democrat drag jeff session confirm fight breitbart',\n",
              " 'break news podesta brother pedo ring mr trump drain swamp v guerrilla economist',\n",
              " 'la frase destacada del debat de investidura',\n",
              " 'confus jihad hirabah build peac world',\n",
              " 'lazi liber journalist smear bannon',\n",
              " 'australia close detent center manu island still accept asylum seeker new york time',\n",
              " 'politico hillari clinton run breitbart',\n",
              " 'giant lynx make ador sound whenev human rub face',\n",
              " 'minnesota cop found guilti philando castil shoot trial',\n",
              " 'million american kill minut',\n",
              " 'wayn madsen cia alway serv interest wall street',\n",
              " 'novemb daili contrarian read',\n",
              " 'flashback report obama campaign rep talk iran hama',\n",
              " 'lesseroftwoevil',\n",
              " 'aya cash first time ate veget new york time',\n",
              " 'trump advis say isra settlement illeg',\n",
              " 'serena william prevail open problem new york time',\n",
              " 'soul man sam moor honor perform trump inaugur',\n",
              " 'ferrel came back bush destroy trump video',\n",
              " 'chines govern concern tough talk trump cabinet breitbart',\n",
              " 'billionair report seiz hong kong hotel taken china new york time',\n",
              " 'easi know link',\n",
              " 'homebodi find ultim home offic new york time',\n",
              " 'ann coulter unload paul ryan deepli unpopular obamacar bill breitbart',\n",
              " 'transgend bathroom debat turn person vermont high school new york time',\n",
              " 'obama hillari want libya gaddafi toppl kill',\n",
              " 'alert former soro associ warn pro wrong gold silver skyrocket like',\n",
              " 'hillari panick fbi weiner email',\n",
              " 'chaotic minut trump defend fine tune machin new york time',\n",
              " 'one polic shift patrol anxiou america new york time',\n",
              " 'fight ghost fascist aid real one',\n",
              " 'monday even brief brexit abort game throne new york time',\n",
              " 'eu increas brexit bill demand billion billion',\n",
              " 'arianna huffington sleep revolut start home new york time',\n",
              " 'iranian missil accident destroy iranian ship aim syria',\n",
              " 'sonoma counti california vote creat largest gmo free zone america',\n",
              " 'fbi comey wikileak intellig porn journal breitbart',\n",
              " 'clare waight keller name first femal design givenchi new york time',\n",
              " 'realiti face black canadian nation shame',\n",
              " 'top nfl draft prospect caleb brantley charg punch woman face breitbart',\n",
              " 'video pacif crest trail associ lavoy finicim murder',\n",
              " 'life lesson man seen death',\n",
              " 'trump g p work win repeal obama health act new york time',\n",
              " 'atlant goldberg confid trump handl matter life death breitbart',\n",
              " 'orthodox rabbi support trump',\n",
              " 'nuclear tension us russia reach danger point',\n",
              " 'gambia join south africa burundi exodu intern crimin court',\n",
              " 'peyton man golf presid trump sunday',\n",
              " 'obama urg donald trump send signal uniti minor group women new york time',\n",
              " 'like miracl woman give birth use ovari frozen sinc childhood new york time',\n",
              " 'uconn recip success run run run new york time',\n",
              " 'assang final afford opportun give statement rape accus',\n",
              " 'hillari puppet show much hillari care god omiss word',\n",
              " 'stock market gone high problem new york time',\n",
              " 'john kerri reject suggest u involv turkey coup new york time',\n",
              " 'trump aid stephen miller u absolut sovereign right determin cannot enter countri breitbart',\n",
              " 'year old russian girl speak languag',\n",
              " 'power corpor lobbi quietli back hillari nobodi talk',\n",
              " 'maintain sunni spirit face hardship new york time',\n",
              " 'rush limbaugh comey fire epic troll trump dem breitbart',\n",
              " 'twitter sue govern block unmask account critic trump new york time',\n",
              " 'warrior resili home cruis cavali new york time',\n",
              " 'comey letter clinton email subject justic dept inquiri new york time',\n",
              " 'spain malta u uk pressur refus allow russian carrier group refuel port',\n",
              " 'review radiohead moon shape pool patient perfection new york time',\n",
              " 'man militar polic stand rock work',\n",
              " 'woman arrest properti land stolen dapl',\n",
              " 'pulitz prize new york time win daili news propublica share public servic award new york time',\n",
              " 'vanquish wit takeov bush clinton attend donald trump inaugur breitbart',\n",
              " 'specul possibl obama pardon edward snowden bow bergdahl chelsea man breitbart',\n",
              " 'cheesi mash potato soul new york time',\n",
              " 'unprincipl wapo editor damn comey critic join',\n",
              " 'nation wreck immigr civil war brew good swede turn muslim migrant violenc rape murder',\n",
              " 'man shot dead offic crucifix gun polic say new york time',\n",
              " 'exclus rep jim jordan trump first day think great start breitbart',\n",
              " 'haley attack syria one presid finest hour breitbart',\n",
              " 'justin bieber defec ador irish fan hotel window',\n",
              " 'cancer agenc fire withhold carcinogen glyphos document',\n",
              " 'gianno caldwel claim hillari care black vote black live',\n",
              " 'isi use ramadan call new terrorist attack new york time',\n",
              " 'daili show mock mahatma blondi megyn kelli nbc debut',\n",
              " 'health care bill failur part art deal breitbart',\n",
              " 'lewandowski comey liar look sign major book deal breitbart',\n",
              " 'kimberli guilfoyl discuss potenti white hous press secretari job interview',\n",
              " 'clinton campaign chairman john podesta invit occult spirit cook dinner marina abramovi',\n",
              " 'obama coalit crumbl leav open trump new york time',\n",
              " 'pregnanc chang brain way may help mother new york time',\n",
              " 'fema open loan window red cross tri shut shelter',\n",
              " 'gaiaport interweb gaia energet strengthen',\n",
              " 'scarborough trump poop pant call modern art breitbart',\n",
              " 'cook invest time work new york time',\n",
              " 'bad news jackson famili woman leak star sick k sex secret',\n",
              " 'gorsuch london republican parti thursday even brief new york time',\n",
              " 'emma morano last person born die breitbart',\n",
              " 'loserpalooza craziest scene anti trump protest breitbart',\n",
              " 'trump victori mean africa',\n",
              " 'vision life mar earth depth new york time',\n",
              " 'obama cancel talk rodrigo dutert philippin say regret slur new york time',\n",
              " 'new jersey increas ga tax end long polit stalem new york time',\n",
              " 'abc manchest attack like inflam anti islam sentiment breitbart',\n",
              " 'hidden plain sight global depopul agenda',\n",
              " 'job american new york time',\n",
              " 'sander ask obama interven dakota access pipelin disput',\n",
              " 'googl add job section search engin includ employ rate breitbart',\n",
              " 'cri jordan meme die new york time',\n",
              " 'dem rep nchez trump use fear muslim immigr promot polici undermin valu breitbart',\n",
              " 'announc saker commun german saker blog vineyard saker',\n",
              " 'shoot victim famili watch gun measur stall new york time',\n",
              " 'imag reveal crash schiaparelli mar lander',\n",
              " 'grassroot coalit share mani question concern betsi devo senat',\n",
              " 'octob daili contrarian read',\n",
              " 'trump inaugur ball work begin play game breitbart',\n",
              " 'trump choic stephen bannon nod anti washington base new york time',\n",
              " 'media outrag white hous exclus fake news breitbart',\n",
              " 'benni morri unten denial ethnic cleans palestin',\n",
              " 'obama hillari clinton pardon could heal divid nation',\n",
              " 'except handl',\n",
              " 'nota conceptu para la presidencia de rusia',\n",
              " 'respons philippin presid fatal blast rais fear new york time',\n",
              " 'david adjay design museum speak differ languag new york time',\n",
              " 'bulletin righteou jew trump rule ruin gop establish etc item',\n",
              " 'britain reduc terror level one notch sever terror cell arrest',\n",
              " 'mute alon never short kind word friend new york time',\n",
              " 'iranian militari command claim rogu nation send elit fighter infiltr us europ',\n",
              " 'account',\n",
              " 'watch muslim student claim non believ kill islam countri breitbart',\n",
              " 'yemen yet anoth fals flag protect saudi us interest middl east new eastern outlook',\n",
              " 'watch muslim palestinian declar follow prophet muhammad kill christian jew',\n",
              " 'street dog kerala call upon superdog krypto rescu human',\n",
              " 'israel track anti govern journalist facebook',\n",
              " 'new alaska law take first step common core',\n",
              " 'key baylor footbal execut demarko butler fire text scandal breitbart',\n",
              " 'calgari airport arriv yyc',\n",
              " 'georg michael wrestl fame frank sinatra advic new york time',\n",
              " 'sharon old laureat sexual scrutin bodi ode new york time',\n",
              " 'blue collar elect shock liber media',\n",
              " 'die new york time',\n",
              " 'polic fire rubber bullet pipelin protest',\n",
              " 'ann coulter hit suppos gay icon kathi griffin isi crib antic',\n",
              " 'contamin food china enter u organ label',\n",
              " 'ten famou peopl read summer new york time',\n",
              " 'hillari clinton knew year ago anthoni weiner pedophil wikileak',\n",
              " 'million stairway nowher far west side new york time',\n",
              " 'cyber war trifl catastroph inform',\n",
              " 'presid putin ask us stop provok russia',\n",
              " 'inquiri cloud de blasio bid come strong manag race new york time',\n",
              " 'us drone strike afghanistan kill wound sever civilian',\n",
              " 'bobbi hutcherson vibraphonist colorist rang sound die new york time',\n",
              " 'amnesti advoc boycott agenc meet pro american advoc invit breitbart',\n",
              " 'project verita robert creamer illeg foreign wire transfer caught tape',\n",
              " 'ex flotu michel obama trump want feed crap kid',\n",
              " 'south sudan slide closer war gunfir rumbl capit new york time',\n",
              " 'nation mood focu group reflect angri divid america',\n",
              " 'bankrupt puerto rico vote u statehood breitbart',\n",
              " 'overwhelm brexit basic new york time',\n",
              " 'seattl gay mayor accus sexual molest teen breitbart',\n",
              " 'gender fluiditi runway new york time',\n",
              " 'us nato attack putin militari drill russia world war red alert kopya',\n",
              " 'new clinton email came underag sex pest anthoni weiner',\n",
              " 'montana bear attack lesson hope surviv first aid new york time',\n",
              " 'best america new york time',\n",
              " 'pecan step pie plate new york time',\n",
              " 'barack obama plagiar tell word matter breitbart',\n",
              " 'lower back ach activ wait new guidelin say new york time',\n",
              " 'sleep hour peopl die new york time',\n",
              " 'veep season episod littl danc new york time',\n",
              " 'dr oz trump offer placebo transpar new york time',\n",
              " 'comment gold medalist wrestler get violent polic cop choos engag deadli forc buck roger',\n",
              " 'one year water orang counti four day breitbart',\n",
              " 'doctor enemi afghan forc target f hospit new york time',\n",
              " 'year old hebrew mention jerusalem found',\n",
              " 'spirit cook disturb podesta email yet warn graphic content',\n",
              " 'donald trump misstep risk put ceil support swing state new york time',\n",
              " 'green parti margaret flower challeng us senat debat maryland undemocrat',\n",
              " 'offic rescu drown deer pool quick think',\n",
              " 'polic suspect punch armi veteran steal servic dog outsid home bronx breitbart',\n",
              " 'yike megyn kelli receiv rude awaken remind replac',\n",
              " 'iran send elit irgc warfight europ unit state prepar battl',\n",
              " 'hillari endors donald trump presid accord wikileak',\n",
              " 'woodward trump dossier garbag document intellig chief apolog trump breitbart',\n",
              " 'emmi nomin traci morgan emot return saturday night live new york time',\n",
              " 'trump pick mick mulvaney south carolina congressman budget director new york time',\n",
              " 'donald trump el primer president naranja de lo estado unido',\n",
              " 'attorney gener loretta lynch plead fifth',\n",
              " 'russia u missil defens pose deep risk secur asia',\n",
              " 'washington plan b syria realli mean',\n",
              " 'upset brexit british jew look germani new york time',\n",
              " 'girl ask boyfriend give iphon use money buy hous',\n",
              " 'amnesti intern slam obama gov kill civilian syria',\n",
              " 'find flock rural writer book club new york time',\n",
              " 'venezuela crisi enter danger phase maduro foe go milit',\n",
              " 'emigr super bloc part viii quasi legal coup hillari clinton inform oper elect',\n",
              " 'could question ask love one vote way new york time',\n",
              " 'bbc ask realli happen clinton haiti',\n",
              " 'trump pick thoma bossert top counterterror advis new york time',\n",
              " 'come unglu',\n",
              " 'trump jr suspici help arizona woman push stall car use photo op video',\n",
              " 'suicid chicago polic offic skyrocket',\n",
              " 'think suv safe shock video',\n",
              " 'peopl tortur kill sufi muslim shrine pakistan',\n",
              " 'comment architectur clever arrang brick man transform heal process architectur clever arrang brick man transform heal process new earth media',\n",
              " 'hybrid war strategi africa introduct',\n",
              " 'julian assang speak prerecord rt interview',\n",
              " 'watch israel love hollywood actor issu major plea america minut rock elect',\n",
              " 'n l donald trump botch independ day moment new york time',\n",
              " 'exclus congresswoman marsha blackburn say elimin net neutral preserv open internet breitbart',\n",
              " 'attach year round greenhous home',\n",
              " 'sheriff clark obama final day obama like tenant evict properti gonna trash place way door video',\n",
              " 'weird ban women iran',\n",
              " 'end game close clinton deep state turn',\n",
              " 'trump fight chanc establish new eastern outlook',\n",
              " 'trade stanc toward china clinton trump signal chill new york time',\n",
              " 'review secret life pet amus miss opportun new york time',\n",
              " 'first case demonetis relat hiv man unprotect sex atm machin',\n",
              " 'thing need know dakota access pipelin protest',\n",
              " 'koch brother battl prevent dark money disclosur south dakota',\n",
              " 'milo berkeley event evacu mask protest light fire storm venu breitbart',\n",
              " 'authoritarian west demon strong popular leader',\n",
              " 'swedish journo sweden collaps without illeg migrant',\n",
              " 'promis internet career vine dead write newsbiscuit cheer',\n",
              " 'iowa trump voter unfaz controversi new york time',\n",
              " 'radic american grown marxist terror group made announc januari th conserv daili post',\n",
              " 'guardian opinion writer trump bannon count terrorist massacr',\n",
              " 'putin pro trump onlin troll spill bean samantha bee',\n",
              " 'along mosul front line desper civilian dug troop fighter new york time',\n",
              " 'second avenu subway open train delay end happi tear new york time',\n",
              " 'year old cher don see top nippl pasti billboard award',\n",
              " 'report stop nine percent illeg alien border crosser would pay trump border wall breitbart',\n",
              " 'ice union issu final warn voter',\n",
              " 'elit new york polic unit rehears terrorist attack new york time',\n",
              " 'trump hollywood star vandal out shameless new video taunt polic seek',\n",
              " 'california today view san francisco lean tower space new york time',\n",
              " 'matthew trump speech putin say america first hitlerian background breitbart',\n",
              " 'vladimir putin valdai intern discuss club shape world tomorrow vladimir putin',\n",
              " 'chines social media rage unit airlin controversi breitbart',\n",
              " 'america better without border',\n",
              " 'chao terror tie make venezuela direct threat usa former un secur council presid say breitbart',\n",
              " 'rick ross documentari video doubl ad checker new york time',\n",
              " 'oil spill pacif ocean sinc last month total ignor',\n",
              " 'podesta mill go dump email',\n",
              " 'thoughtlessli disbeliev conspiraci theori need read',\n",
              " 'dr david duke dr slatteri expos hillari treason trump duke win',\n",
              " 'russian frigat syrian cost blast terrorist hq cruis missil video',\n",
              " 'hillari clinton like covert action stay covert transcript show new york time',\n",
              " 'us kurdish troop involv invad isi capit raqqa',\n",
              " 'awaken human await fulli script end controversi elect day near',\n",
              " 'georg soro back climat march bring celeb nation mall swelter saturday breitbart',\n",
              " 'edward snowden long strang journey hollywood new york time',\n",
              " 'black trump man belong murder cult',\n",
              " 'bill clinton lover call ruthless hillari warden',\n",
              " 'russia cina e arabia saudita domano l egemonia del dollaro di ariel noyola rodr guez',\n",
              " 'third month india cash shortag begin bite new york time',\n",
              " 'one trump administr posit gain popular go shock breitbart',\n",
              " 'bill clinton said white middl class life expect declin obama year',\n",
              " 'furiou eric holder issu dire warn comey partisan smear',\n",
              " 'memo trump action day',\n",
              " 'chao desper thousand flee aleppo amid govern advanc new york time',\n",
              " 'wildfir empti fort mcmurray alberta oil sand region new york time',\n",
              " 'schumer session investig seem violat recus breitbart',\n",
              " 'amid divis march washington seek bring women togeth new york time',\n",
              " 'zoe saldana trump hollywood got cocki becam arrog bulli',\n",
              " 'anti establish trump plan appoint goldman sach georg soro insid',\n",
              " 'cholesterol drug men gonad',\n",
              " 'trump flynn treat unfair fake media illeg leak breitbart',\n",
              " 'california today virtual realiti investig trayvon martin case new york time',\n",
              " 'nearli decad later apolog lynch georgia new york time',\n",
              " 'marcia clark final moment savor emmi new york time',\n",
              " 'brexit speech theresa may outlin clean break u k new york time',\n",
              " 'man hate black men found victim care other new york time',\n",
              " 'michael flynn fail disclos incom russia link entiti new york time',\n",
              " 'feder judg throw convict c sniper four life sentenc',\n",
              " 'donald trump obama thanksgiv weekend brief new york time',\n",
              " '',\n",
              " 'vine celebr life death app clip',\n",
              " 'squatti potti ceo griffin imag divis disturb decis realli',\n",
              " 'thing let go new year',\n",
              " 'comment polic union post pic hillari arrest facebook dan',\n",
              " 'koch brother secretli alli w georg soro hillari clinton',\n",
              " 'trump expand search secretari state new york time',\n",
              " 'teacher yr old wait trump elect go deport muslim',\n",
              " 'cost choic top concern health insur custom new york time',\n",
              " 'shaq announc plan run sheriff breitbart',\n",
              " 'illeg immigr cross border vote',\n",
              " 'pirat fail take helm iceland pirat parti gain mileag enough steadi ship alon',\n",
              " 'billionair build davo new york time',\n",
              " 'run danger alaskan trail new york time',\n",
              " 'la pel cula de su vida descubr que ha llevado siempr un trozo de lechuga entr lo dient',\n",
              " 'dem win congression basebal game give trophi republican steve scalis breitbart',\n",
              " 'franc present strict gun control paper tiger breitbart',\n",
              " 'china russia silk road commod nixon massiv bull market gold silver',\n",
              " 'troubl quarterback johnni manziel appear shop mall sign autograph next super bowl breitbart',\n",
              " 'bob dylan accus lift part nobel prize speech sparknot',\n",
              " 'blimp crash e coli contamin snakebitten u open wit spectat death breitbart',\n",
              " 'public employe shadow world american carnag',\n",
              " 'espn lz granderson justifi think kaepernick blackbal nobodi sign breitbart',\n",
              " 'prescript painkil death drop state legal marijuana',\n",
              " 'low growth world get new york time',\n",
              " 'istanbul donald trump benjamin netanyahu morn brief new york time',\n",
              " 'hitler hillari',\n",
              " 'dalian wanda hollywood event product new york time',\n",
              " 'comment pm water cooler timmi',\n",
              " 'breakdown clinton money machin',\n",
              " 'california forefront climat fight back trump new york time',\n",
              " 'g e year old softwar start new york time',\n",
              " 'hillari clinton hamilton would enough new york time',\n",
              " 'brain concuss children adult know vaccin damag',\n",
              " 'trump great paul craig robert',\n",
              " 'hillari frantic dirti secret implod get wors prison bombshel',\n",
              " 'rent car know rule road new york time',\n",
              " 'impeach polit brazil someth sinist new york time',\n",
              " 'trump interview moder view defi convent new york time',\n",
              " 'review sweetbitt bright light big citi restaur set new york time',\n",
              " 'gonzaga beat south carolina final four shot anoth first new york time',\n",
              " 'gorka trump interventionist command chief noth chang breitbart',\n",
              " 'thank fbi clinton email investig shift poll number significantli trump favor',\n",
              " 'race class dictat republican futur',\n",
              " 'gorsuch scalia lion law judg look law demand prefer breitbart',\n",
              " 'nc state provid student post elect comfort food therapi',\n",
              " 'iraqi troop push mosul kill across iraq',\n",
              " 'pregnant women turn marijuana perhap harm infant new york time',\n",
              " 'biggest winner loser u presidenti elect',\n",
              " 'trump psychic listen word one year ago look happen',\n",
              " 'mccain trump attack press dictat get start breitbart',\n",
              " 'judgment day one reason everi christian jew america vote donald trump',\n",
              " 'coup stolen elect',\n",
              " '',\n",
              " 'thing need know black dakota access pipelin protest',\n",
              " 'germani iraqi asylum seeker convict rape chines student',\n",
              " 'teenag boy knock classmat assault femal teacher face epic',\n",
              " 'take bring hillari clinton justic',\n",
              " 'ice round crimin alien texa capit',\n",
              " 'elect hate grief new stori',\n",
              " 'hillari question michel obama help',\n",
              " 'keith vaz british lawmak quit senior post amid sex drug scandal new york time',\n",
              " 'comment sunday devot whole univers grain sunday devot whole univers grain fellowship mind kommonsentsjan',\n",
              " 'donald trump syria emperor akihito morn brief new york time',\n",
              " 'hell frozen michel obama made hillari destroy move twitter',\n",
              " 'flynn critic call nuclear scientist miss usa dumb diss femin call health care privileg breitbart',\n",
              " 'hampshir colleg student accus assault basketbal player wear hair braid claim cultur appropri breitbart',\n",
              " 'obamamomet toxic legaci rule lawless',\n",
              " 'simon manuel gold rippl beyond pool new york time',\n",
              " 'vote machin program order steal elect',\n",
              " 'redraw tree life scientist discov new bacteria group stun microbi divers underground',\n",
              " 'trump putin destroy isi',\n",
              " 'photo game camera catch glimps possibl antler buck',\n",
              " 'turkey relat europ sink amid quarrel netherland new york time',\n",
              " 'wikileak document reveal unit nation interest ufo video',\n",
              " 'blue state blue deliber politic intimaci',\n",
              " 'clare hollingworth report broke news world war ii die new york time',\n",
              " 'north miami polic offic shoot man aid patient autism new york time',\n",
              " 'path total dictatorship america shadow govern silent coup',\n",
              " 'effort curb polic abus mix record uncertain futur new york time',\n",
              " 'signal major bottom gold silver',\n",
              " 'hey ho old england embrac punk rock year later new york time',\n",
              " 'cano reek genocid theft white privileg say canadian professor',\n",
              " 'illeg immigr advoc pledg resist deport trump',\n",
              " 'cdc scientist confirm donald trump right vaccin autism',\n",
              " 'breitbart news daili drain swamp breitbart',\n",
              " 'trump media frankenstein monster',\n",
              " 'watch toni romo say goodby dalla cowboy instagram video breitbart',\n",
              " 'global far right conspiraci theori buoy trump new york time',\n",
              " 'georgia father convict murder toddler death hot car new york time',\n",
              " 'richard boll die wrote color parachut new york time',\n",
              " 'stranahan steve bannon nail media fight trump breitbart',\n",
              " 'texa elector expect massiv corrupt relat elector colleg vote',\n",
              " 'guilti power nullif counteract govern tyranni',\n",
              " 'trillion new debt day',\n",
              " 'tori councillor say homeless peopl elimin',\n",
              " 'review hillbilli elegi tough love analysi poor back trump new york time',\n",
              " 'crimin chief',\n",
              " 'govern lie movi',\n",
              " 'trump brexit defeat global anyway',\n",
              " 'face congress sport offici begin confront sexual abus new york time',\n",
              " 'airbnb end fight new york citi fine new york time',\n",
              " 'big pharma martin shkreli suspend twitter breitbart',\n",
              " 'next big tech corridor seattl vancouv planner hope new york time',\n",
              " 'evid robot win race american job new york time',\n",
              " 'see africa road new york time',\n",
              " 'happen hip hop hillari goe dead broke brace',\n",
              " 'bill maher high trump state free speech new era new york time',\n",
              " 'l p g tour donald trump complic new york time',\n",
              " 'legend art cashin trump presid new world order gold brexit great depress see panic',\n",
              " 'fl sheriff day goe arrest lot illeg alien prey peopl breitbart',\n",
              " 'donald trump threaten cancel berkeley feder fund riot shut milo event',\n",
              " '',\n",
              " 'bill herz last war world broadcast crew die new york time',\n",
              " 'gari johnson equat syria death caus assad west new york time',\n",
              " 'republican senat bill defund un anti israel resolut',\n",
              " 'rose evanski pioneer women hairstyl die new york time',\n",
              " 'blackston saudi arabia announc billion invest u infrastructur breitbart',\n",
              " 'satur fat heart diseas greatest scam histori medicin',\n",
              " 'dem sen merkley gorsuch nomin court pack scheme turn nomin breitbart',\n",
              " 'four common mistak burn wood',\n",
              " 'push internet privaci rule move statehous new york time',\n",
              " 'madonna gave surpris pop concert support clinton new york time',\n",
              " 'trump support plan anti trump ralli lack tax reform',\n",
              " 'british healthcar offer glimps futur obamacar',\n",
              " 'trump iranian presid rouhani better care breitbart',\n",
              " 'break sec defens carter attempt fool american public veteran caught red hand',\n",
              " 'putin advis take credit trump victori mayb help bit wikileak',\n",
              " 'warren buffett stake suggest appl grown new york time',\n",
              " 'fbi clinton email investig shift poll number significantli trump favor',\n",
              " 'hillari horrifi pic surfac overnight want',\n",
              " 'paul lepag governor main say quit new york time',\n",
              " 'colorado radio station paul martin interview dave hodg elect fraud stand rock',\n",
              " 'bill clinton want call someth complet ridicul hillari elect',\n",
              " 'son death salli mann stage haunt show new york time',\n",
              " 'trump team link russia crisscross washington new york time',\n",
              " 'north korean arrest kill kim jong un half brother new york time',\n",
              " 'surgeon admit mammographi outdat harm women',\n",
              " 'war street pari arm migrant fight run battl french capit',\n",
              " 'oscar voter meryl streep nomin anti trump speech',\n",
              " 'texa enact anti sharia law',\n",
              " 'chicago polic board chair windi citi need feder help turn tide crime breitbart',\n",
              " 'look beyond novemb th song oligarchi doom',\n",
              " 'neil young celebr st birthday perform stand rock',\n",
              " 'exclus amid paul ryan obamacar push mississippi chri mcdaniel prep potenti senat run breitbart',\n",
              " 'boom short list peopl inspir michel obama',\n",
              " 'artist go boycott grammi face fallout fraught award new york time',\n",
              " 'video idiot destroy trump hollywood star get bad news second later',\n",
              " 'elit want global economi collaps',\n",
              " 'best health benefit sweat',\n",
              " 'senat confirm scott pruitt e p head new york time',\n",
              " 'cricket snake crab mix fact fraud new york subway new york time',\n",
              " 'session potenti deputi face stern test russia inquiri new york time',\n",
              " 'suicid squad top box offic second weekend new york time',\n",
              " 'health insur plan rate hike obamacar exchang breitbart',\n",
              " 'look like someon think democrat ohio full manur',\n",
              " 'syrian war report novemb govt forc relaunch offens oper insid outsid aleppo',\n",
              " 'mysteri solv get hillari clinton get movin twitchi com',\n",
              " 'senat narrowli pass rollback obama era auto r rule new york time',\n",
              " 'cramp costli bay area cri build babi build new york time',\n",
              " 'champion optim obama hail clinton polit heir new york time',\n",
              " 'fiona appl releas trump protest chant new york time',\n",
              " 'susan rice u must integr lgbt right gov foreign polici',\n",
              " 'trump organ move avoid possibl conflict interest new york time',\n",
              " 'sweden brink polic forc push break point violenc amid migrant influx',\n",
              " 'comment hemp vs cotton ultim showdown hemp readdress cannabi kuebiko co',\n",
              " 'jare kushner trump son law clear serv advis new york time',\n",
              " 'fisherman face life prison catch worth cocain sell breitbart',\n",
              " 'step ring roll punch new york time',\n",
              " 'adnan sy serial podcast get retrial murder case new york time',\n",
              " 'scientist say weird signal space probabl alien',\n",
              " 'u swimmer disput robberi claim fuel tension brazil new york time',\n",
              " 'way take self care vacat new york time',\n",
              " 'economist sign letter urg america vote donald trump',\n",
              " 'campaign long expens chaotic mayb good thing new york time',\n",
              " 'alien megastructur star target million seti search',\n",
              " 'brazen kill myanmar lawyer came spar militari new york time',\n",
              " 'jane pauley back new york time',\n",
              " 'deutsch bank consid altern pay cash bonu',\n",
              " 'danni dyer footbal foul up dvd second',\n",
              " 'lack oxford comma could cost main compani million overtim disput new york time',\n",
              " 'european parliament committe consid legal right robot breitbart',\n",
              " 'rex tillerson aggress dealmak whose tie russia may prompt scrutini new york time',\n",
              " 'fbi conduct new investig email clinton privat illeg server',\n",
              " 'heart mine us empir cultur industri',\n",
              " 'report megyn trash trump newt murdoch announc replac avail',\n",
              " 'russian scientist track sea lion space',\n",
              " 'seiz definit popul reuter warn us chao come',\n",
              " 'seaworthi readi earli unveil new york time',\n",
              " 'donald trump add k mcfarland nation secur team new york time',\n",
              " 'snowstorm bring wintri mix slush gripe new york time',\n",
              " 'republican wilder tillerson thursday even brief new york time',\n",
              " 'review bryan cranston shine lyndon johnson way new york time',\n",
              " 'samsung urg consum stop use galaxi note batteri fire new york time',\n",
              " 'elect result discuss presidenti elect open thread',\n",
              " 'ag lynch told fbi director comey go public new clinton email investig',\n",
              " 'donald trump rise white ident polit',\n",
              " 'red blue divid six view america new york time',\n",
              " 'franc identifi nd man attack church kill priest new york time',\n",
              " 'dreamer arrest nationwid gang crackdown',\n",
              " 'maxin water american public get weari trump impeach yet breitbart',\n",
              " 'wwn horoscop',\n",
              " 'deport italian mobster caught sneak across u mexico border',\n",
              " 'leak audio hillari clinton push rig palestin elect',\n",
              " 'iranian saudi proxi struggl tore apart middl east new york time',\n",
              " 'lavrov kerri discuss syrian settlement',\n",
              " 'l influenc de usa et de l otan dan le rapport de l ue avec la chine manlio dinucci',\n",
              " 'open border group gird h b fight',\n",
              " 'weinerg expos darker dirtier secret imagin',\n",
              " 'trump elect break chain polit correct',\n",
              " 'whitehous gov take climat page put america first energi plan breitbart',\n",
              " 'iran warn presid elect trump mess sweetheart nuclear deal obama',\n",
              " 'toni perkin trump eo affirm jefferson doctrin separ church state',\n",
              " 'moon fell heaven',\n",
              " 'mom star launch campaign plan parenthood',\n",
              " 'assad lesson aleppo forc work consequ new york time',\n",
              " 'penc bossert bannon demot continu play import polici role breitbart',\n",
              " 'bundi ranch occupi acquit count challeng corrupt bureau land manag',\n",
              " 'report googl face fine billion eu antitrust case breitbart',\n",
              " 'ask thom york write cover quot book',\n",
              " 'internet flasher',\n",
              " 'gretchen carlson suit aim retali discrimin new york time',\n",
              " 'googl launch ai program detect hate speech breitbart',\n",
              " 'poll show hillari lead useless mislead cartoon',\n",
              " 'last second lane merger good traffic new york time',\n",
              " 'macau skip casino embrac past new york time',\n",
              " 'montreal ungainli unlov christma tree new york time',\n",
              " 'photo jupit nasa spacecraft near far new york time',\n",
              " 'trump labor pick andrew puzder critic minimum wage increas new york time',\n",
              " 'nico rosberg take formula one driver titl despit lewi hamilton win abu dhabi new york time',\n",
              " 'sensori isol tank taught brain new york time',\n",
              " 'chelsea handler botch tweet attack trump grandchild',\n",
              " 'report trump move tax reform plan without speaker paul ryan breitbart',\n",
              " 'ag jeff session unveil program acceler deport imprison illeg breitbart',\n",
              " 'former us attorney dc new hillari email probe result revolt insid fbi',\n",
              " 'keep appear ruin former dalla banker new york time',\n",
              " 'sesam seed knee osteoarthr',\n",
              " 'white cop interact black real life',\n",
              " 'pennsylvania republican push ban privat gun sale breitbart',\n",
              " 'review warcraft orc differ domain fight heart new york time',\n",
              " 'good peopl share bad info need fact check click share',\n",
              " 'charit wed registri new york time',\n",
              " 'nypd raid hillari properti found ruin life usa newsflash',\n",
              " 'feinstein gorsuch originalist doctrin realli troubl origin would allow segreg breitbart',\n",
              " 'confront flare obama travel parti reach china new york time',\n",
              " 'reason appli job trump administr',\n",
              " 'thought silver market rig',\n",
              " 'hear agn martin seren john zorn frenzi music new york time',\n",
              " 'must see welcom famili mani hispan american vote donald trump',\n",
              " 'iraqi forc enter western mosul fierc battl isi new york time',\n",
              " 'european futur putin migrant crisi video',\n",
              " 'roll stone defam case magazin report order pay million new york time',\n",
              " 'hillari sick tire suffer weiner backup',\n",
              " 'taiwan itali joe mcknight friday even brief new york time',\n",
              " 'shiit militia say close tal afar turkey warn limit',\n",
              " 'brother clinton campaign chair activ foreign agent saudi arabian payrol',\n",
              " 'must fight trump goe conserv freedom caucu new york time',\n",
              " 'isi kidnap kill least civilian afghanistan',\n",
              " 'hold hillari account',\n",
              " 'break ted cruz call special prosecutor investig hillari truthfe',\n",
              " 'spare gunman charleston churchgoer describ night terror new york time',\n",
              " 'war satur fat harm peopl poor countri shun tradit fat like coconut oil',\n",
              " 'democrat garland mind mobil suprem court fight new york time',\n",
              " 'comment best kind milk dairi best kind milk dairi collect evolut apg editori',\n",
              " 'harri reid blast comey misconduct drop bombshel fbi sit russian trump info',\n",
              " 'nation review conservat inc plan cave even immigr',\n",
              " 'watch thug call us marin pussi bare live tell tale',\n",
              " 'next us presid psycho lesbian plu break news video',\n",
              " 'critic see effort counti town purg minor voter roll new york time',\n",
              " 'even brief hillari clinton donald trump cultur revolut new york time',\n",
              " 'indiana parent lose babi year live jail abus say never happen',\n",
              " 'roll stone paint blue new album new york time',\n",
              " 'uber extend oliv branch local govern data new york time',\n",
              " 'wilder put dutch first brussel africa asylum seeker',\n",
              " 'donald trump good educ enrich mind soul',\n",
              " 'watch brad pitt play afghanistan war gener war machin teaser breitbart',\n",
              " 'two power earthquak strike central itali',\n",
              " 'indoor garden made easi nutritow',\n",
              " 'elizabeth warren defin sleazi hypocrisi',\n",
              " 'rush limbaugh reilli departur natur campaign breitbart',\n",
              " 'museum truste trump donor support group deni climat chang new york time',\n",
              " 'cecil richard credit plan parenthood support stop ahca breitbart',\n",
              " 'switch chip know anymor',\n",
              " 'u conced million payment iran delay prison leverag new york time',\n",
              " 'australia say foil terrorist plot new york time',\n",
              " 'orovil dam state feder govern share blame',\n",
              " 'daili traditionalist jeff schoep nsm',\n",
              " 'michael moor joe blow vote trump ultim f elit human molotov cocktail',\n",
              " 'jaguar owner shahid khan oppos trump immigr ban new york time',\n",
              " 'anti trump advert side bu realli visual clever see motion',\n",
              " 'piano man mani face stranger stori new york time',\n",
              " 'ticket releas harri potter curs child new york time',\n",
              " 'fbi visit man home film us postal distribut center',\n",
              " 'hispan crowd boo marco rubio stage',\n",
              " 'fire tv report receiv thousand sexual violent threat',\n",
              " 'detain illeg alien end day hunger strike',\n",
              " 'break silenc offic testifi kill walter scott new york time',\n",
              " 'illeg immigr allegedli kill park spot',\n",
              " 'presid trump honor littl sister poor first white hous nat l day prayer year breitbart',\n",
              " 'hillari clinton support call recount vote battleground state',\n",
              " 'hbo scrap jon stewart anim comedi seri',\n",
              " 'sentenc murder rare book dealer',\n",
              " 'latest stock market invest book financi market',\n",
              " 'fashion industri ceo support plan parenthood civic respons',\n",
              " 'anti trump protest paid stage craigslist reveal',\n",
              " 'men exercis put damper sex life new york time',\n",
              " 'bake soda coconut oil kill cancer eye open evid',\n",
              " 'trump cite evid suggest susan rice commit crime new york time',\n",
              " 'breitbart news daili gorsuch scotu breitbart',\n",
              " 'hillari arrest',\n",
              " 'siri open smart lock let neighbor walk hous',\n",
              " 'donald trump michael phelp zika tuesday even brief new york time',\n",
              " 'obama furiou fed deplor drop piec gift',\n",
              " 'l mark year sinc rodney king riot breitbart',\n",
              " 'de facto us al qaeda allianc inform',\n",
              " 'cori booker paul rever moment underway russian come breitbart',\n",
              " 'rapper troy ave shot brooklyn new york time',\n",
              " 'seattl judg ignor jihad convict prior impos refuge reform ban breitbart',\n",
              " 'texa student skip school protest arrest violent crimin',\n",
              " 'trump aid tri reassur europ mani wari new york time',\n",
              " 'china trigger next global recess',\n",
              " 'bomb kill baghdad new york time',\n",
              " 'comment black racism martin wright',\n",
              " 'thank fbi clinton email investig shift poll number significantli trump favor',\n",
              " 'u rescu attempt afghanistan miss western hostag hour new york time',\n",
              " 'rick rule look sprott asset manag client money right',\n",
              " 'farm owner arrest protest dakota access pipelin theft land',\n",
              " 'trump pois lift ban c black site prison new york time',\n",
              " 'tesla musk investig solarc congress',\n",
              " 'ridicul stupid thing men keep women',\n",
              " 'press tv duff un condemn moder terrorist',\n",
              " 'nemesi scourg western world',\n",
              " 'trump budget new foundat american great breitbart',\n",
              " 'exclus islam state support vow terror group retak mosul liber',\n",
              " 'roll thunder motorcyclist return c honor pow mia breitbart',\n",
              " 'interest fun fact stethoscop',\n",
              " 'china seek bigger role world stage xi jinp go davo world econom forum new york time',\n",
              " 'veteran prepar join stand rock protest stop dakota access pipelin',\n",
              " 'photo latin america condemn venezuela excess use forc protest breitbart',\n",
              " 'sugar feed cancer cell may even creat',\n",
              " 'john kerri urg ground militari aircraft key area syria new york time',\n",
              " 'outsid money favor hillari clinton rate donald trump new york time',\n",
              " 'fake news new york time target breitbart report truth breitbart',\n",
              " 'blast new yorker examin psycholog shrapnel new york time',\n",
              " 'resist schwarzenegg call grassroot revolut u exit pari agreement',\n",
              " 'virginia offici request u inquiri inmat death jail new york time',\n",
              " 'report voter fraud crash cours',\n",
              " 'associ press report admit fake news stori hillari clinton',\n",
              " 'review garth brook bring rous anthem ballad yanke stadium new york time',\n",
              " 'sicher trainieren beim spin gilt ab sofort helmpflicht',\n",
              " 'everi asset class collaps need look wealth term mani chicken much ga buy',\n",
              " 'review halt catch fire time travel silicon valley dawn new york time',\n",
              " 'obama use religi test favor muslim christian',\n",
              " 'wingsuit flyer vs tree',\n",
              " 'turkey say airport bomber kyrgyzstan russia uzbekistan new york time',\n",
              " 'turmer power artifici drug',\n",
              " 'facebook caught sell target advertis exclud differ race',\n",
              " 'gatlinburg resid return home wildfir destruct new york time',\n",
              " 'year old girl use human bomb nigeria attack',\n",
              " 'shock berkeley poll california voter want democrat work trump breitbart',\n",
              " 'famili terror attack victim sue twitter provid resourc servic isi breitbart',\n",
              " 'philippin leader vow pardon polic accus mayor death new york time',\n",
              " 'fda found manipul media favor big pharma',\n",
              " 'jay h lehr begin end epa',\n",
              " 'imahdi arriv satan practic leader',\n",
              " 'ag session dem sen harri abl rush fast make nervou breitbart',\n",
              " 'u n envoy say u still back palestinian state new york time',\n",
              " 'trump happen',\n",
              " 'japan vote strengthen shinzo abe goal chang constitut new york time',\n",
              " 'trump camp caught cam brag voter suppress women black video',\n",
              " 'chelsea man ask obama cut sentenc time serv new york time',\n",
              " 'red sox broadcast jerri remi think foreign player use translat',\n",
              " 'shi ite militia join iraq mosul attack',\n",
              " 'escap reign super bowl commerci polit prove inescap new york time',\n",
              " 'naval brief novemb th ledahu',\n",
              " 'scandal video footag anonym expos huma hillari',\n",
              " 'jar new level confront conflict hit washington new york time',\n",
              " 'clinton transmit classifi info lawyer',\n",
              " 'hillari russian hack guid american might trump breitbart',\n",
              " 'gener elect campaign suspend wake manchest suicid bomb',\n",
              " 'grand slam father son film smash hit famili',\n",
              " 'venezuela econom crisi mean left fail',\n",
              " 'herd stamped wild boar kill three islam state jihadist breitbart',\n",
              " 'venu mar believ gender often wrong new york time',\n",
              " 'obama pardon list hotel magnat own studio new york time',\n",
              " 'suspect captur ambush style kill two iowa cop',\n",
              " 'megyn sic kelli gowdi triumphantli comment hillari case reopen',\n",
              " 'famili friendli polici friendliest male professor new york time',\n",
              " 'ringo starr anuncia que deja lo beatl',\n",
              " 'war less immin clinton defeat',\n",
              " 'mi chief present russia grow threat british interest',\n",
              " 'washington state upend trump travel ban new york time',\n",
              " 'protect swerv polic chief caught speed get laugh ticket video',\n",
              " 'fake news trump hit mexico explod',\n",
              " 'go wikileak',\n",
              " 'former cia director blame millenni wikileak document breitbart',\n",
              " 'tell stori slaveri new york time',\n",
              " 'live wire dutch elect high turnout expect controversi turkish mosqu poll centr',\n",
              " 'shave mean freedom omar',\n",
              " 'bombshel leak email expos muslim got obama administr',\n",
              " 'nativ american part ten lost tribe jewish peopl',\n",
              " 'blm rapper bill alleg son nasti surpris hillari',\n",
              " 'kevin durant join golden state warrior new york time',\n",
              " 'indian call center becom major center defraud american breitbart',\n",
              " 'congress attorney gener lynch plead fifth secret iran ransom payment',\n",
              " 'lo angel time editori lose trump narcissist demagogu breitbart',\n",
              " 'swirl untruth falsehood call lie lie new york time',\n",
              " 'hillari clinton lead donald trump new hampshir florida poll show new york time',\n",
              " 'gene wilder huma abedin donald trump monday even brief new york time',\n",
              " 'watch blimp crash catch fire us open breitbart',\n",
              " 'toddler loos gun car mother die new york time',\n",
              " 'asian american actor fight visibl ignor new york time',\n",
              " 'mexican feel environ',\n",
              " 'insid donald trump last stand anxiou nomine seek assur new york time',\n",
              " 'park servic name divers nation landmark new york time',\n",
              " 'weiner rise white hous alli disgrac ex congressman hire breitbart',\n",
              " 'trump lose grab musket former congressman readi go full revolut',\n",
              " 'decod north korea claim success nuclear test new york time',\n",
              " 'bill belichick wit list testifi aaron hernandez doubl murder case breitbart',\n",
              " 'l mayor silent citi rise violent crime breitbart',\n",
              " 'theresa may new british prime minist give bori johnson key post new york time',\n",
              " 'donald trump hillari clinton iphon wednesday even brief new york time',\n",
              " 'usa kill million peopl victim nation sinc world war ii',\n",
              " 'polic offic face backlash hillari photo',\n",
              " 'shakespear remain authent bore',\n",
              " 'georgia candid jon ossoff film firm financ facebook fact check funder',\n",
              " 'effort defeat isi u iran imped one anoth new york time',\n",
              " 'rick put bullet trump wilson potu support see scalis shoot bless breitbart',\n",
              " 'western intellig agenc run al qaeda camp north africa',\n",
              " 'trump tell plan parenthood fund stay abort goe new york time',\n",
              " 'comment hillari clinton gun control agenda expos wikileak email braindiseasecalledliber',\n",
              " 'barack obama delay suspend elect hillari forc new fbi email investig',\n",
              " 'donald trump incit feud g p candid flee shadow new york time',\n",
              " 'germani student forc chant allahu akbar punish refus trip mosqu',\n",
              " 'meteor space junk rocket mysteri flash hit siberia',\n",
              " 'trump nation secur advis call russian envoy day sanction impos new york time',\n",
              " 'project verita implic democrat oper claim credit romney video',\n",
              " 'laid american requir zip lip way grow bolder new york time',\n",
              " ...]"
            ]
          },
          "metadata": {},
          "execution_count": 38
        }
      ]
    },
    {
      "cell_type": "markdown",
      "source": [
        "#one hot encoding\n",
        "Here we are doing one hot encoding with the voc size of 2000"
      ],
      "metadata": {
        "id": "2kaxVtKkTtnF"
      }
    },
    {
      "cell_type": "code",
      "source": [
        "from tensorflow.keras.preprocessing.text import one_hot\n",
        "voc_size=2000\n",
        "onehot_repr=[one_hot(words,voc_size)for words in corpus]"
      ],
      "metadata": {
        "id": "h88GIMJnIXZ9"
      },
      "execution_count": 19,
      "outputs": []
    },
    {
      "cell_type": "markdown",
      "source": [
        "#Padding\n",
        "As all the sentences may not be in the same length so we add a padding to be sure that none of the words miss."
      ],
      "metadata": {
        "id": "qc84zh-wT5Us"
      }
    },
    {
      "cell_type": "code",
      "source": [
        "from tensorflow.keras.layers import Embedding\n",
        "from tensorflow.keras.preprocessing.sequence import pad_sequences\n",
        "sent_length=50\n",
        "embedded_docs=pad_sequences(onehot_repr,padding='pre',maxlen=sent_length)\n",
        "print(embedded_docs)"
      ],
      "metadata": {
        "colab": {
          "base_uri": "https://localhost:8080/"
        },
        "id": "Ph10SQZNIb-7",
        "outputId": "7fccd041-5983-44e9-a75c-4821025bf3e5"
      },
      "execution_count": 20,
      "outputs": [
        {
          "output_type": "stream",
          "name": "stdout",
          "text": [
            "[[   0    0    0 ...  799 1158 1664]\n",
            " [   0    0    0 ... 2375 3295 3294]\n",
            " [   0    0    0 ... 2062  617 2119]\n",
            " ...\n",
            " [   0    0    0 ... 4391 1005   60]\n",
            " [   0    0    0 ...  613 3125 3964]\n",
            " [   0    0    0 ...  435 2024  608]]\n"
          ]
        }
      ]
    },
    {
      "cell_type": "code",
      "source": [
        "import numpy as np\n",
        "X_final=np.array(embedded_docs)\n",
        "y_final=np.array(y)"
      ],
      "metadata": {
        "id": "4TjeLwNSI-DY"
      },
      "execution_count": 21,
      "outputs": []
    },
    {
      "cell_type": "code",
      "source": [
        "from sklearn.model_selection import train_test_split\n",
        "X_train, X_test, y_train, y_test = train_test_split(X_final, y_final, test_size=0.33, random_state=42)"
      ],
      "metadata": {
        "id": "jX1LK4f3JDP-"
      },
      "execution_count": 22,
      "outputs": []
    },
    {
      "cell_type": "code",
      "source": [
        "from sklearn.ensemble import RandomForestClassifier\n",
        "from sklearn.metrics import accuracy_score"
      ],
      "metadata": {
        "id": "1CKuRgiVKplG"
      },
      "execution_count": 23,
      "outputs": []
    },
    {
      "cell_type": "code",
      "source": [
        "model = RandomForestClassifier(max_depth=20,n_estimators=200)\n",
        "\n",
        "# Train the model\n",
        "model.fit(X_train, y_train)"
      ],
      "metadata": {
        "colab": {
          "base_uri": "https://localhost:8080/",
          "height": 129
        },
        "id": "zSdO4MklK88d",
        "outputId": "81761c9a-447d-4413-be84-e3f8095a4c19"
      },
      "execution_count": 24,
      "outputs": [
        {
          "output_type": "stream",
          "name": "stderr",
          "text": [
            "<ipython-input-24-03f2b924fc2e>:4: DataConversionWarning: A column-vector y was passed when a 1d array was expected. Please change the shape of y to (n_samples,), for example using ravel().\n",
            "  model.fit(X_train, y_train)\n"
          ]
        },
        {
          "output_type": "execute_result",
          "data": {
            "text/plain": [
              "RandomForestClassifier(max_depth=20, n_estimators=200)"
            ],
            "text/html": [
              "<style>#sk-container-id-1 {color: black;background-color: white;}#sk-container-id-1 pre{padding: 0;}#sk-container-id-1 div.sk-toggleable {background-color: white;}#sk-container-id-1 label.sk-toggleable__label {cursor: pointer;display: block;width: 100%;margin-bottom: 0;padding: 0.3em;box-sizing: border-box;text-align: center;}#sk-container-id-1 label.sk-toggleable__label-arrow:before {content: \"▸\";float: left;margin-right: 0.25em;color: #696969;}#sk-container-id-1 label.sk-toggleable__label-arrow:hover:before {color: black;}#sk-container-id-1 div.sk-estimator:hover label.sk-toggleable__label-arrow:before {color: black;}#sk-container-id-1 div.sk-toggleable__content {max-height: 0;max-width: 0;overflow: hidden;text-align: left;background-color: #f0f8ff;}#sk-container-id-1 div.sk-toggleable__content pre {margin: 0.2em;color: black;border-radius: 0.25em;background-color: #f0f8ff;}#sk-container-id-1 input.sk-toggleable__control:checked~div.sk-toggleable__content {max-height: 200px;max-width: 100%;overflow: auto;}#sk-container-id-1 input.sk-toggleable__control:checked~label.sk-toggleable__label-arrow:before {content: \"▾\";}#sk-container-id-1 div.sk-estimator input.sk-toggleable__control:checked~label.sk-toggleable__label {background-color: #d4ebff;}#sk-container-id-1 div.sk-label input.sk-toggleable__control:checked~label.sk-toggleable__label {background-color: #d4ebff;}#sk-container-id-1 input.sk-hidden--visually {border: 0;clip: rect(1px 1px 1px 1px);clip: rect(1px, 1px, 1px, 1px);height: 1px;margin: -1px;overflow: hidden;padding: 0;position: absolute;width: 1px;}#sk-container-id-1 div.sk-estimator {font-family: monospace;background-color: #f0f8ff;border: 1px dotted black;border-radius: 0.25em;box-sizing: border-box;margin-bottom: 0.5em;}#sk-container-id-1 div.sk-estimator:hover {background-color: #d4ebff;}#sk-container-id-1 div.sk-parallel-item::after {content: \"\";width: 100%;border-bottom: 1px solid gray;flex-grow: 1;}#sk-container-id-1 div.sk-label:hover label.sk-toggleable__label {background-color: #d4ebff;}#sk-container-id-1 div.sk-serial::before {content: \"\";position: absolute;border-left: 1px solid gray;box-sizing: border-box;top: 0;bottom: 0;left: 50%;z-index: 0;}#sk-container-id-1 div.sk-serial {display: flex;flex-direction: column;align-items: center;background-color: white;padding-right: 0.2em;padding-left: 0.2em;position: relative;}#sk-container-id-1 div.sk-item {position: relative;z-index: 1;}#sk-container-id-1 div.sk-parallel {display: flex;align-items: stretch;justify-content: center;background-color: white;position: relative;}#sk-container-id-1 div.sk-item::before, #sk-container-id-1 div.sk-parallel-item::before {content: \"\";position: absolute;border-left: 1px solid gray;box-sizing: border-box;top: 0;bottom: 0;left: 50%;z-index: -1;}#sk-container-id-1 div.sk-parallel-item {display: flex;flex-direction: column;z-index: 1;position: relative;background-color: white;}#sk-container-id-1 div.sk-parallel-item:first-child::after {align-self: flex-end;width: 50%;}#sk-container-id-1 div.sk-parallel-item:last-child::after {align-self: flex-start;width: 50%;}#sk-container-id-1 div.sk-parallel-item:only-child::after {width: 0;}#sk-container-id-1 div.sk-dashed-wrapped {border: 1px dashed gray;margin: 0 0.4em 0.5em 0.4em;box-sizing: border-box;padding-bottom: 0.4em;background-color: white;}#sk-container-id-1 div.sk-label label {font-family: monospace;font-weight: bold;display: inline-block;line-height: 1.2em;}#sk-container-id-1 div.sk-label-container {text-align: center;}#sk-container-id-1 div.sk-container {/* jupyter's `normalize.less` sets `[hidden] { display: none; }` but bootstrap.min.css set `[hidden] { display: none !important; }` so we also need the `!important` here to be able to override the default hidden behavior on the sphinx rendered scikit-learn.org. See: https://github.com/scikit-learn/scikit-learn/issues/21755 */display: inline-block !important;position: relative;}#sk-container-id-1 div.sk-text-repr-fallback {display: none;}</style><div id=\"sk-container-id-1\" class=\"sk-top-container\"><div class=\"sk-text-repr-fallback\"><pre>RandomForestClassifier(max_depth=20, n_estimators=200)</pre><b>In a Jupyter environment, please rerun this cell to show the HTML representation or trust the notebook. <br />On GitHub, the HTML representation is unable to render, please try loading this page with nbviewer.org.</b></div><div class=\"sk-container\" hidden><div class=\"sk-item\"><div class=\"sk-estimator sk-toggleable\"><input class=\"sk-toggleable__control sk-hidden--visually\" id=\"sk-estimator-id-1\" type=\"checkbox\" checked><label for=\"sk-estimator-id-1\" class=\"sk-toggleable__label sk-toggleable__label-arrow\">RandomForestClassifier</label><div class=\"sk-toggleable__content\"><pre>RandomForestClassifier(max_depth=20, n_estimators=200)</pre></div></div></div></div></div>"
            ]
          },
          "metadata": {},
          "execution_count": 24
        }
      ]
    },
    {
      "cell_type": "code",
      "source": [
        "y_pred = model.predict(X_test)\n",
        "\n",
        "# Evaluate the model\n",
        "accuracy = accuracy_score(y_test, y_pred)\n",
        "print(\"Accuracy:\", accuracy)"
      ],
      "metadata": {
        "colab": {
          "base_uri": "https://localhost:8080/"
        },
        "id": "yogM0DT5K_3k",
        "outputId": "b5cb5194-a1e6-4235-be6d-de23c24e0edb"
      },
      "execution_count": 25,
      "outputs": [
        {
          "output_type": "stream",
          "name": "stdout",
          "text": [
            "Accuracy: 0.8937862468931235\n"
          ]
        }
      ]
    },
    {
      "cell_type": "code",
      "source": [
        "from sklearn.metrics import confusion_matrix\n",
        "confusion_matrix(y_test,y_pred)"
      ],
      "metadata": {
        "colab": {
          "base_uri": "https://localhost:8080/"
        },
        "id": "gP0OJDNZLHfj",
        "outputId": "1e3284d4-1e91-489a-8b1c-5913e0329ebb"
      },
      "execution_count": null,
      "outputs": [
        {
          "output_type": "execute_result",
          "data": {
            "text/plain": [
              "array([[2830,  589],\n",
              "       [  71, 2545]])"
            ]
          },
          "metadata": {},
          "execution_count": 46
        }
      ]
    },
    {
      "cell_type": "code",
      "source": [
        "y_pred = model.predict(X_test)\n",
        "\n",
        "# Evaluate the model\n",
        "accuracy = accuracy_score(y_test, y_pred)\n",
        "print(\"Accuracy:\", accuracy)"
      ],
      "metadata": {
        "colab": {
          "base_uri": "https://localhost:8080/"
        },
        "id": "LavH3H37LNe_",
        "outputId": "16f9b3fc-ba4f-43ae-eaf8-e9e67ce40765"
      },
      "execution_count": 51,
      "outputs": [
        {
          "output_type": "stream",
          "name": "stdout",
          "text": [
            "Accuracy: 0.8936205468102734\n"
          ]
        }
      ]
    },
    {
      "cell_type": "code",
      "source": [
        "import pickle\n",
        "filename = 'random_forest.sav'\n",
        "pickle.dump(model, open(filename, 'wb'))\n",
        "\n",
        "# load the model\n"
      ],
      "metadata": {
        "id": "BR_gQygtt9jp"
      },
      "execution_count": 53,
      "outputs": []
    },
    {
      "cell_type": "code",
      "source": [
        "test1= test[['text']]"
      ],
      "metadata": {
        "id": "rTEXfGJEz1XH"
      },
      "execution_count": 26,
      "outputs": []
    },
    {
      "cell_type": "code",
      "source": [
        "type(trainf['title'][0])"
      ],
      "metadata": {
        "colab": {
          "base_uri": "https://localhost:8080/"
        },
        "id": "WzvRhsHA1x_k",
        "outputId": "0ed21657-7e62-462f-a3f5-d89a913a0849"
      },
      "execution_count": 31,
      "outputs": [
        {
          "output_type": "execute_result",
          "data": {
            "text/plain": [
              "str"
            ]
          },
          "metadata": {},
          "execution_count": 31
        }
      ]
    },
    {
      "cell_type": "code",
      "source": [
        "test1.shape"
      ],
      "metadata": {
        "colab": {
          "base_uri": "https://localhost:8080/"
        },
        "id": "G0zWBatH1n8N",
        "outputId": "9a89d0c7-efcc-42cd-882f-eb93e7144342"
      },
      "execution_count": 27,
      "outputs": [
        {
          "output_type": "execute_result",
          "data": {
            "text/plain": [
              "(5200, 1)"
            ]
          },
          "metadata": {},
          "execution_count": 27
        }
      ]
    },
    {
      "cell_type": "code",
      "source": [
        "len(test)"
      ],
      "metadata": {
        "colab": {
          "base_uri": "https://localhost:8080/"
        },
        "id": "U3UKSxDs1sYl",
        "outputId": "5ead750b-3f77-42af-ec0e-90049e93f81e"
      },
      "execution_count": 28,
      "outputs": [
        {
          "output_type": "execute_result",
          "data": {
            "text/plain": [
              "5200"
            ]
          },
          "metadata": {},
          "execution_count": 28
        }
      ]
    },
    {
      "cell_type": "code",
      "source": [
        "from nltk.stem.porter import PorterStemmer\n",
        "from tensorflow.keras.preprocessing.text import one_hot\n",
        "from tensorflow.keras.layers import Embedding\n",
        "from tensorflow.keras.preprocessing.sequence import pad_sequences\n",
        "def text(t):\n",
        "  if(len(t)==0):\n",
        "    return 0\n",
        "  ps = PorterStemmer()\n",
        "  corpus = []\n",
        "\n",
        "\n",
        "  review = re.sub('[^a-zA-Z]', ' ',t)\n",
        "  review = review.lower()\n",
        "  review = review.split()\n",
        "\n",
        "  review = [ps.stem(word) for word in review if not word in stopwords.words('english')]\n",
        "  review = ' '.join(review)\n",
        "  corpus.append(review)\n",
        "  voc_size=5000\n",
        "  onehot_repr=[one_hot(words,voc_size)for words in corpus]\n",
        "  sent_length=20\n",
        "  embedded_docs=pad_sequences(onehot_repr,padding='pre',maxlen=sent_length)\n",
        "  x=np.array(embedded_docs)\n",
        "  return x"
      ],
      "metadata": {
        "id": "61fY2qyluBQW"
      },
      "execution_count": 30,
      "outputs": []
    },
    {
      "cell_type": "code",
      "source": [
        "import csv"
      ],
      "metadata": {
        "id": "r3HPeFs2wl7N"
      },
      "execution_count": 33,
      "outputs": []
    },
    {
      "cell_type": "code",
      "source": [
        "if type(test1['title'][9])==float:\n",
        "  print(\"hello\")"
      ],
      "metadata": {
        "colab": {
          "base_uri": "https://localhost:8080/"
        },
        "id": "lXsI8GE9zfbd",
        "outputId": "3bc50894-de66-4a5b-e344-a84ee40b08f5"
      },
      "execution_count": 42,
      "outputs": [
        {
          "output_type": "stream",
          "name": "stdout",
          "text": [
            "hello\n"
          ]
        }
      ]
    },
    {
      "cell_type": "code",
      "source": [
        "with open('predictions.csv', 'w', newline='') as csvfile:\n",
        "    fieldnames = ['id', 'label']\n",
        "    writer = csv.DictWriter(csvfile, fieldnames=fieldnames)\n",
        "    writer.writeheader()\n",
        "\n",
        "    for i in range(0, len(test)):\n",
        "        t = test1['text'][i]\n",
        "        if(type(t)==float):\n",
        "          writer.writerow({'id': test['id'][i], 'label': 0})\n",
        "        else:\n",
        "          pro =  text(t)\n",
        "\n",
        "          prediction = model.predict(pro)\n",
        "          writer.writerow({'id': test['id'][i], 'label': prediction[0]})\n"
      ],
      "metadata": {
        "id": "HexLsb7BvSpY"
      },
      "execution_count": 44,
      "outputs": []
    }
  ]
}